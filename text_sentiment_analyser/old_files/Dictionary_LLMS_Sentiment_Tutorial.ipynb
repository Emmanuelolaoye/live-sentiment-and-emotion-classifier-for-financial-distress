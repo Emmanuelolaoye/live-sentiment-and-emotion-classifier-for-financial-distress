{
 "cells": [
  {
   "cell_type": "markdown",
   "metadata": {},
   "source": [
    "# Sentiment analysis for finance\n",
    "\n",
    "In this notebook, I present three different approaches to sentiment analysis for finance:\n",
    "\n",
    "1. Dictionary-based approach\n",
    "2. FinBert and other BERT-based models\n",
    "3. LLM models (GPT-3.5, Llama2, etc.)"
   ]
  },
  {
   "cell_type": "code",
   "execution_count": 1,
   "metadata": {
    "ExecuteTime": {
     "end_time": "2024-07-23T02:56:43.073224Z",
     "start_time": "2024-07-23T02:56:42.515904Z"
    }
   },
   "outputs": [],
   "source": [
    "import pandas as pd"
   ]
  },
  {
   "cell_type": "markdown",
   "metadata": {},
   "source": [
    "First of all, let's load some financial news data to work with."
   ]
  },
  {
   "cell_type": "code",
   "metadata": {
    "ExecuteTime": {
     "end_time": "2024-07-25T18:04:51.008348Z",
     "start_time": "2024-07-25T18:04:50.748277Z"
    }
   },
   "source": [
    "from langchain_community.document_loaders import NewsURLLoader"
   ],
   "outputs": [],
   "execution_count": 1
  },
  {
   "cell_type": "code",
   "metadata": {
    "ExecuteTime": {
     "end_time": "2024-07-25T18:04:52.450702Z",
     "start_time": "2024-07-25T18:04:52.440701Z"
    }
   },
   "source": [
    "urls = [\n",
    "    \"https://sg.finance.yahoo.com/news/ether-etfs-to-start-trading-after-sec-green-light-money-managers-221846599.html\",\n",
    "    \"https://sg.finance.yahoo.com/news/crypto-surges-on-political-respect-as-donald-trump-courts-bitcoin-enthusiasts-153720599.html\",\n",
    "    \"https://sg.finance.yahoo.com/news/etf-stands-everything-fits-182106129.html\",\n",
    "    \"https://sg.finance.yahoo.com/news/boeing-shares-fall-premarket-trade-143500263.html\",\n",
    "    \"https://finance.yahoo.com/m/bc30d3bb-c438-3e52-ada4-b1f8c40f756e/solar-stocks-aren%E2%80%99t-having-a.html\",\n",
    "]"
   ],
   "outputs": [],
   "execution_count": 2
  },
  {
   "cell_type": "code",
   "metadata": {
    "ExecuteTime": {
     "end_time": "2024-07-25T18:04:57.978228Z",
     "start_time": "2024-07-25T18:04:55.444826Z"
    }
   },
   "source": [
    "loader = NewsURLLoader(urls=urls)\n",
    "data = loader.load()"
   ],
   "outputs": [],
   "execution_count": 3
  },
  {
   "cell_type": "code",
   "metadata": {
    "ExecuteTime": {
     "end_time": "2024-07-25T18:05:00.693331Z",
     "start_time": "2024-07-25T18:05:00.683399Z"
    }
   },
   "source": [
    "data"
   ],
   "outputs": [
    {
     "data": {
      "text/plain": [
       "[Document(metadata={'title': 'Ether ETFs to start trading after SEC green light: Money managers', 'link': 'https://sg.finance.yahoo.com/news/ether-etfs-to-start-trading-after-sec-green-light-money-managers-221846599.html', 'authors': [], 'language': 'en', 'description': 'BlackRock, Fidelity, and other big money managers said they got the final approval from regulators to start offering ether ETFs to everyday investors.', 'publish_date': None}, page_content='Exchange-traded funds that hold ether (ETH-USD) can start trading following final approval from regulators on Monday, according to the money managers that will oversee the new ETFs.\\n\\nThe Securities and Exchange Commission gave the green light Monday to BlackRock (BLK), Fidelity, Franklin Templeton, Grayscale, and 21 Shares, the companies said.\\n\\nTrading could begin as early as Tuesday.\\n\\nThe moves could make ether, the world’s second-largest cryptocurrency, a potential staple in 401(k)s, IRAs, and pension plans and grant the digital asset more mainstream acceptance.\\n\\n\"This is exemplary of Fidelity\\'s rich history and commitment to meeting the evolving needs of our customers,\" Fidelity\\'s head of digital asset management, Cynthia Lo Bessette, said in a press release.\\n\\nThe approvals come roughly six months after the SEC permitted many of these same money managers to launch ETFs that hold bitcoin (BTC), the world’s largest cryptocurrency.\\n\\nThe new development is the latest example of the recent success the crypto industry is having in Washington as it pushes for friendlier regulation and greater freedom to launch new products.\\n\\nIt comes just days before the Republican nominee for president, Donald Trump, offers his stamp of approval when he speaks before the Bitcoin 2024 conference in Nashville this weekend.\\n\\nTrump and many in his party have embraced digital assets as they seek to draw a contrast with the Biden administration, which led a crackdown on many of the industry’s major players following a market meltdown in 2022.\\n\\nThe GOP said in its 16-page party platform last week that \"Republicans will end Democrats’ unlawful and unAmerican Crypto crackdown.\"\\n\\nThe BlackRock logo is pictured outside their headquarters in the Manhattan borough of New York City, May 25, 2021. (REUTERS/Carlo Allegri/File Photo) (REUTERS / Reuters)\\n\\nTrump, who in the past has called bitcoin a \"scam,\" referred to cryptocurrencies as \"amazing\" in an interview with Bloomberg published last week.\\n\\nThe price of bitcoin is up more than 6% over the past month to roughly $68,000, putting it within striking distance of an all-time high set earlier this year.\\n\\nStory continues\\n\\nEther is up more than 3% for the last five days. It has traded down in recent months and remains far off its all-time high set in November 2021.\\n\\nThe trading of ether ETFs is the latest example of wider public acceptance of digital assets by some prominent figures on Wall Street.\\n\\nOne such figure is BlackRock CEO Larry Fink, who last week in an interview with CNBC referred to bitcoin as a \"legitimate financial instrument.\"\\n\\n\"I’m a major believer that there is a role for bitcoin in portfolios,\" Fink said.\\n\\nBlackRock was among the firms that received approval in January to start issuing a spot bitcoin ETF, which turned out to be a major boon for its first half of the year.\\n\\nIts iShares bitcoin ETF (IBIT) saw $18 billion in net inflows over its first six months.\\n\\nOn Monday it said its registration statement for iShares Ethereum Trust ETF (ETHA) had been declared effective by the SEC.\\n\\n\"Our clients are increasingly interested in gaining exposure to digital assets through exchange-traded products (ETPs) which provide convenient access, liquidity and transparency,\" Jay Jacobs, BlackRock\\'s head of US thematic and active ETFs, said in a statement.\\n\\nClick here for the latest crypto news, updates, and more related to ethereum and bitcoin prices, crypto ETFs, and market implications for cryptocurrencies\\n\\nRead the latest financial and business news from Yahoo Finance'),\n",
       " Document(metadata={'title': 'Crypto surges on political respect as Donald Trump courts bitcoin enthusiasts', 'link': 'https://sg.finance.yahoo.com/news/crypto-surges-on-political-respect-as-donald-trump-courts-bitcoin-enthusiasts-153720599.html', 'authors': [], 'language': 'en', 'description': 'The price of bitcoin surged above $68,000 as investors got more hyped about several developments, including a stamp of approval from former President Donald Trump.', 'publish_date': None}, page_content='Crypto is surging again on a new wave of political respect as former President Donald Trump prepares to speak this week at a bitcoin conference in Nashville.\\n\\nThe price of bitcoin (BTC-USD) is up more than 13% over the past month and surged above $68,000 in the last 24 hours, putting the world’s largest cryptocurrency within striking distance of an all-time high set earlier this year.\\n\\nThis week, crypto investors are anticipating several reasons to get more hyped, including Securities and Exchange Commission approvals for exchange-traded funds that hold ether (ETH-USD), the world’s second-largest cryptocurrency.\\n\\nThose ETFs could make ether a potential staple in 401(k)s, IRAs, and pension plans and grant the digital asset more mainstream acceptance. Many of the same money managers waiting on approval already have ETFs that invest directly in bitcoin.\\n\\nBut the big event creating the most excitement in the crypto community is this weekend, when Trump will speak at the Bitcoin 2024 conference in Nashville.\\n\\nThe stamp of approval from the Republican presidential nominee has many in the industry expecting a friendlier regulatory approach from Washington, D.C., in 2025 and beyond.\\n\\nTrump and many in his party have embraced digital assets as they seek to draw a contrast with the Biden administration, which led a crackdown on many of the industry’s major players following a market meltdown in 2022.\\n\\nThe GOP said in its 16-page party platform last week that \"Republicans will end Democrats’ unlawful and unAmerican Crypto crackdown.\"\\n\\nTrump, who in the past has called bitcoin a \"scam,\" referred to cryptocurrencies as \"amazing\" in an interview with Bloomberg published last week.\\n\\nRepublican presidential candidate former President Donald Trump reacts after speaking at a campaign rally, Saturday, July 20, 2024, in Grand Rapids, Mich. (AP Photo/Evan Vucci) (ASSOCIATED PRESS)\\n\\n\"It\\'s more likely that a Trump administration would be more friendly to crypto than the Democrats have been, I think that\\'s clear,\" Ian Katz, a managing director of Capital Alpha Partners, told Yahoo Finance.\\n\\n\"We believe the market has not priced in a positive shift in the crypto regulatory environment, and we see significant headroom from institutional investors allocating to crypto and crypto stocks,\" Bernstein analyst Gautam Chhugani added in a note Monday.\\n\\nStory continues\\n\\nTrump’s economic policies may also help digital assets go higher in the years to come, according to some observers.\\n\\n\"What will drive the price of BTC is lower tax rates and tariffs, which if history is any guide (and it’s not always), will be inflationary,\" Dallas Mavericks owner and entrepreneur Mark Cuban said over X last week.\\n\\nBitcoin is up more than 50% in 2024 thus far, riding a series of developments that led many in the industry to bet on higher prices.\\n\\nThey range from expectations of lower interest rates from the Federal Reserve to wider public acceptance of digital assets by some prominent figures on Wall Street.\\n\\nOne such figure is BlackRock CEO Larry Fink, who last week in an interview with CNBC referred to bitcoin as a \"hedge for optimism\" and a \"legitimate financial instrument.\"\\n\\n\"I’m a major believer that there is a role for bitcoin in portfolios,\" Fink said.\\n\\nLarry Fink, CEO of BlackRock. (REUTERS/David \\'Dee\\' Delgado) (REUTERS / Reuters)\\n\\nBlackRock was among the firms that received approval in January to start issuing a spot bitcoin ETF, which turned out to be a major boon for its first half of the year. Its iShares bitcoin ETF (IBIT) saw $18 billion in net inflows over its first six months.\\n\\nIt is also expected to be among the money managers to get approval from the SEC this week to launch the first US-regulated ether ETFs. The SEC has already approved stock exchanges to list those products.\\n\\nBitcoin was created in the wake of the 2008 financial crisis as a new kind of money out of the reach of governments. That\\'s led some in financial markets to see it as a kind of digital gold or even a safe haven store of value — even though cryptocurrencies have traded more closely with volatile technology stocks in recent years.\\n\\nInvestors have, in fact, flocked to bitcoin during sudden shifts in the monetary order, like at the outbreak of the Russia-Ukraine war, when the US and its allies began placing a number of sanctions on Russia.\\n\\nThe next chance for this to happen is when the Fed begins lowering interest rates, which investors expect to happen as early as September.\\n\\n\"Bitcoin has not had the opportunity to really shine as a safe haven store value asset,\" said Joel Kruger, a market strategist for London-based currency and crypto trading venue LMAX.\\n\\n\"Everything has been built around what is going on in the US equities market for years now and I do think there will be a rotation. Usually what triggers that is [interest] rates changing.\"\\n\\nCorrection: A previous version of this article listed an incorrect spelling of Gautam Chhugani\\'s name. We regret the error.\\n\\nDavid Hollerith is a senior reporter for Yahoo Finance covering banking, crypto, and other areas in finance.\\n\\nClick here for the latest crypto news, updates, and more related to ethereum and bitcoin prices, crypto ETFs, and market implications for cryptocurrencies\\n\\nRead the latest financial and business news from Yahoo Finance'),\n",
       " Document(metadata={'title': \"ETF Stands for 'Everything That Fits'\", 'link': 'https://sg.finance.yahoo.com/news/etf-stands-everything-fits-182106129.html', 'authors': ['George Kaloudis'], 'language': 'en', 'description': 'First Bitcoin, then Ethereum, now Solana. ETF issuers will stop at nothing so long as they believe they can make money.', 'publish_date': None}, page_content=\"One of the main crypto narratives this year has been the approval and trading of U.S. spot Exchange Traded Funds (ETFs). They have been a resounding success. Not only have the bitcoin ETFs attracted $16 billion of inflows in half a year, the price of bitcoin (and therefore the prices of these ETFs) has increased by 46%.\\n\\nThe ETFs' success is so obvious that BlackRock’s CEO Larry Fink came out and said he likes bitcoin now ( and not just because it can make his firm money! ). In a recent interview with CNBC, Fink said, “My opinion five years ago was wrong. I believe bitcoin is a legitimate financial instrument .”\\n\\nTo be sure, the assets under management (AUM) attributable to IBIT, BlackRock’s Spot Bitcoin ETF, remains miniscule in the face of BlackRock’s total AUM (if you take out the AUM of IBIT – $18 billion – from BlackRock’s total AUM of $10.6 trillion, you’re still left with $10.6 trillion). Still, Fink's comment further legitimizes bitcoin in the eyes of the Boomer financial advisors now that firms like BlackRock and Fidelity (still waiting on Vanguard) bless bitcoin as a legitimate asset with a place in portfolios.\\n\\nSo Bitcoin, at least in this way, is here to stay.\\n\\nWhat about what’s next? Well, an ether spot ETF, of course, which may begin trading next week and is also expected to be a success (albeit on a smaller scale than the Bitcoin ETF).\\n\\nAnd then after that? Well, Solana ETFs naturally.\\n\\nOver a billion, 300 million, trillion, 300 million ETFs\\n\\nWhile I still personally maintain that bitcoin is different from other cryptocurrencies and is the only one which concretely does what it sets out to do, I think it is (and was) a significant mistake to assume bitcoin was in any way special in the eyes of high finance and Wall Street and, by extension, ETF issuers.\\n\\nThe U.S. ETF market is immense. Check the statistics from the Investment Company Institute for 2023: $8 trillion of assets; 218 firms providing ETFs; 3,108 total ETFs! And with good reason. ETFs make it trivial to compose your portfolio according to whatever investment thesis you may have.\\n\\nStory continues\\n\\nFor example, if you wanted to invest in healthcare or consumer discretionary goods there are sector ETFs for that. Say you’re young and want to chuck most of your portfolio into the tech-heavy Nasdaq-100. Just buy up a bunch of Invesco’s ETF QQQ, which tracks that. Whatever the idea, there’s an ETF for that.\\n\\nThey even have ETFs for more amusing, potentially farcical, ideas.\\n\\nSay you’re young and want to chuck most of your portfolio into the Nasdaq-100, but also you want to get rich three times as fast. You can buy TQQQ, which is the same as QQQ but it goes up (and down) three times as fast (this is achieved through debt, or leverage, hence the term “ triple levered ETFs ”).\\n\\nWhat if you want to buy an ETF even Jesus would like? Try WWJD . Do you see the virtue in vice and want to invest in worldly sins? Try VICE . What if you totally hate the investment advice of CNBC’s Jim Cramer? Try SJIM, the Inverse Cramer ETF, which follows the exact opposite of Cramer’s advice ( not for nothing, this ETF no longer exists, but it used to! ).\\n\\nWith this in mind, it’s plain that it wasn’t ever going to be “the Bitcoin ETF is the only ETF that will exist because bitcoin is better than the others and the SEC knows this.”\\n\\nTwo years ago I wrote :\\n\\n“If the SEC decided tomorrow that bitcoin was a security, it would change nothing about bitcoin fundamentally. It would also change nothing about bitcoin market manipulation being bad. It would just change who thinks they can regulate it at this particular moment.”\\n\\nPhilosophically, it didn’t matter if cryptos were securities then, and it doesn’t matter now. So now the Bitcoin spot ETF has come to the U.S. and next comes one for Ethereum and then the next one and the next and the next until we finally stop and ask ourselves: What exactly is stopping the potential issuance of a meme coin ETF ? Before you answer: “meme coins are securities,” remember that plenty of ETFs have securities in them (QQQ, TQQQ, WWJD, VICE).\\n\\nAs long as regulators are allowing new, shiny crypto ETFs, then the firms which provide ETFs will continue to provide them to the market because that’s what ETF providers do for a living. They make ETFs, investors buy them, and providers make a fee for managing them.\\n\\nEven though it seems now that if it looks like a duck and quacks like a duck, it will be stuffed à la turducken into an ETF, I do believe that cooler heads will (eventually) prevail, among investors and/or regulators. Even if it takes a Duckley ETF for that to happen.\\n\\nNote: The views expressed in this column are those of the author and do not necessarily reflect those of CoinDesk, Inc. or its owners and affiliates.\"),\n",
       " Document(metadata={'title': 'Boeing Shares Fall in Premarket Trade After Earnings Report', 'link': 'https://sg.finance.yahoo.com/news/boeing-shares-fall-premarket-trade-143500263.html', 'authors': [], 'language': 'en', 'description': 'Investing.com - Shares in Boeing fell in premarket trade on Wednesday after the world’s largest aerospace company reported third quarter earnings and revenue that came in largely in line with analysts’ expectations.', 'publish_date': None}, page_content='Yahoo Finance Video\\n\\nAs the future of Social Security is on the line in the 2024 presidential election, Yahoo Finance senior columnist Kerry Hannon breaks down the pressure Americans are feeling when it comes to retirement planning, especially as President Biden made the tough decision to withdraw from his reelection bid. Hannon explains that self-awareness is critical when planning for retirement, breaking it up into two lines of thought: the personal piece and the financial piece in this decision. \"It\\'s really being able to look at yourself and be honest and say, \\'What is my motivation for continuing to work? How is my health? What are my goals?\\'\" She notes that this aspect can be hard for many people who avoid thinking too far ahead, but it can be easier with help from a therapist, retirement coach, or friends and family. For those who have to continue working because they do not have enough savings to comfortably retire, Hannon encourages them to take a closer look at their overall finances. \"Give yourself some space to really look at all of your expenses. It doesn\\'t have to be down to the exact number, but what are some of the non-negotiable expenses you\\'re going to have moving forward? And what are the ones that are going to be more flexible? Once you get a bead on this sort of thing, you might figure out ways to get lean and mean,\" Hannon says. For more expert insight and the latest market action, click here to watch this full episode of Wealth! This post was written by Melanie Riehl'),\n",
       " Document(metadata={'title': 'Solar Stocks Aren’t Having a Good Run. Why They’re Still a Buy.', 'link': 'https://finance.yahoo.com/m/bc30d3bb-c438-3e52-ada4-b1f8c40f756e/solar-stocks-aren%E2%80%99t-having-a.html', 'authors': ['Elsa Ohlen'], 'language': 'en', 'description': 'The sector has been hit by high interest rates, low power prices, and uncertainty about the U.S. election.', 'publish_date': None}, page_content='There are no important events for this country at this time. Select \"All\" to see top events in other countries or view all events.')]"
      ]
     },
     "execution_count": 4,
     "metadata": {},
     "output_type": "execute_result"
    }
   ],
   "execution_count": 4
  },
  {
   "cell_type": "code",
   "metadata": {
    "ExecuteTime": {
     "end_time": "2024-07-25T18:05:02.880223Z",
     "start_time": "2024-07-25T18:05:02.670206Z"
    }
   },
   "source": [
    "df = pd.DataFrame(\n",
    "    [{\"title\": d.metadata[\"title\"], \"text\": d.page_content} for d in data]\n",
    ")\n",
    "\n",
    "df"
   ],
   "outputs": [
    {
     "ename": "NameError",
     "evalue": "name 'pd' is not defined",
     "output_type": "error",
     "traceback": [
      "\u001B[1;31m---------------------------------------------------------------------------\u001B[0m",
      "\u001B[1;31mNameError\u001B[0m                                 Traceback (most recent call last)",
      "Cell \u001B[1;32mIn[5], line 1\u001B[0m\n\u001B[1;32m----> 1\u001B[0m df \u001B[38;5;241m=\u001B[39m \u001B[43mpd\u001B[49m\u001B[38;5;241m.\u001B[39mDataFrame(\n\u001B[0;32m      2\u001B[0m     [{\u001B[38;5;124m\"\u001B[39m\u001B[38;5;124mtitle\u001B[39m\u001B[38;5;124m\"\u001B[39m: d\u001B[38;5;241m.\u001B[39mmetadata[\u001B[38;5;124m\"\u001B[39m\u001B[38;5;124mtitle\u001B[39m\u001B[38;5;124m\"\u001B[39m], \u001B[38;5;124m\"\u001B[39m\u001B[38;5;124mtext\u001B[39m\u001B[38;5;124m\"\u001B[39m: d\u001B[38;5;241m.\u001B[39mpage_content} \u001B[38;5;28;01mfor\u001B[39;00m d \u001B[38;5;129;01min\u001B[39;00m data]\n\u001B[0;32m      3\u001B[0m )\n\u001B[0;32m      5\u001B[0m df\n",
      "\u001B[1;31mNameError\u001B[0m: name 'pd' is not defined"
     ]
    }
   ],
   "execution_count": 5
  },
  {
   "cell_type": "markdown",
   "metadata": {},
   "source": [
    "## Dictionnary-based approach\n",
    "\n",
    "A dictionary-based approach is a simple way to perform sentiment analysis. It consists of using a list of words with associated sentiment scores. The sentiment score of a sentence is the sum of the sentiment scores of the words it contains. You can also normalize the score by the number of words in the sentence.\n",
    "\n",
    "\n",
    "For this type of approach, we will need to use a financial sentiment dictionary. I will use the Loughran-McDonald dictionary, which is widely used in finance. Note that this dictionary is designed for financial statements, so it may not be the best choice for news articles.\n",
    "\n",
    "You can download the dictionary from [here](https://sraf.nd.edu/loughranmcdonald-master-dictionary/) (direct link: [Loughran-McDonald_MasterDictionary_1993-2023.csv](https://drive.google.com/file/d/1ptUgGVeeUGhCbaKL14Ri3Xi5xOKkPkUD/view?usp=sharing))\n",
    "\n",
    "\n",
    "### Pre-processing\n",
    "\n",
    "The preprocessing steps to use a dictionnary based approach depend on the dictionnary you are using and the final measure you want to obtain. In this case, we will use the Loughran-McDonald dictionary, which contains variation of similar words, including plural forms, verb forms, etc. Therefore, we do not need to perform stemming or lemmatization, a common step in text preprocessing.\n",
    "\n",
    "The preprocessing steps we will perform are:\n",
    "    - Lowercasing\n",
    "    - Removing punctuation\n",
    "    - Removing stopwords\n",
    "    - Removing numbers\n",
    "\n",
    "The removal of stopwords and numbers is optional, but it will affect the sentiment score of the text as measure as a ratio of the number of words in the text. Other common filtering includes removing URLs, emails, cities, company names, etc.\n",
    "\n",
    "\n",
    "\n"
   ]
  },
  {
   "cell_type": "code",
   "metadata": {
    "ExecuteTime": {
     "end_time": "2024-07-25T18:05:10.393837Z",
     "start_time": "2024-07-25T18:05:10.373852Z"
    }
   },
   "source": [
    "# Using the same ones as Loughran-McDonald\n",
    "\n",
    "with open(\"Stop_Words.txt\", \"r\") as f:\n",
    "    stopwords = f.read().split(\"\\n\")[:-1]\n",
    "stopwords[:10]"
   ],
   "outputs": [
    {
     "data": {
      "text/plain": [
       "['about', 'and', 'from', 'now', 'where', 'you', 'am', 'until', 'them', 'in']"
      ]
     },
     "execution_count": 6,
     "metadata": {},
     "output_type": "execute_result"
    }
   ],
   "execution_count": 6
  },
  {
   "cell_type": "code",
   "metadata": {
    "ExecuteTime": {
     "end_time": "2024-07-25T18:05:14.226036Z",
     "start_time": "2024-07-25T18:05:14.214539Z"
    }
   },
   "source": [
    "def preprocess_text(text):\n",
    "    words = text.split()\n",
    "    words = [w.lower() for w in words]\n",
    "    words = [w for w in words if w not in stopwords]\n",
    "    # Remove punctuation and numbers\n",
    "    words = [w for w in words if w.isalpha()]\n",
    "    return \" \".join(words)\n",
    "\n",
    "\n",
    "df[\"text_clean\"] = df[\"text\"].apply(preprocess_text)\n",
    "df"
   ],
   "outputs": [
    {
     "ename": "NameError",
     "evalue": "name 'df' is not defined",
     "output_type": "error",
     "traceback": [
      "\u001B[1;31m---------------------------------------------------------------------------\u001B[0m",
      "\u001B[1;31mNameError\u001B[0m                                 Traceback (most recent call last)",
      "Cell \u001B[1;32mIn[7], line 10\u001B[0m\n\u001B[0;32m      6\u001B[0m     words \u001B[38;5;241m=\u001B[39m [w \u001B[38;5;28;01mfor\u001B[39;00m w \u001B[38;5;129;01min\u001B[39;00m words \u001B[38;5;28;01mif\u001B[39;00m w\u001B[38;5;241m.\u001B[39misalpha()]\n\u001B[0;32m      7\u001B[0m     \u001B[38;5;28;01mreturn\u001B[39;00m \u001B[38;5;124m\"\u001B[39m\u001B[38;5;124m \u001B[39m\u001B[38;5;124m\"\u001B[39m\u001B[38;5;241m.\u001B[39mjoin(words)\n\u001B[1;32m---> 10\u001B[0m df[\u001B[38;5;124m\"\u001B[39m\u001B[38;5;124mtext_clean\u001B[39m\u001B[38;5;124m\"\u001B[39m] \u001B[38;5;241m=\u001B[39m \u001B[43mdf\u001B[49m[\u001B[38;5;124m\"\u001B[39m\u001B[38;5;124mtext\u001B[39m\u001B[38;5;124m\"\u001B[39m]\u001B[38;5;241m.\u001B[39mapply(preprocess_text)\n\u001B[0;32m     11\u001B[0m df\n",
      "\u001B[1;31mNameError\u001B[0m: name 'df' is not defined"
     ]
    }
   ],
   "execution_count": 7
  },
  {
   "cell_type": "markdown",
   "metadata": {},
   "source": [
    "### Dictionary\n",
    "\n",
    "Next, will load the dictionary and make a list of positive words and a list of negative words."
   ]
  },
  {
   "cell_type": "code",
   "metadata": {
    "ExecuteTime": {
     "end_time": "2024-07-25T18:05:32.500525Z",
     "start_time": "2024-07-25T18:05:32.480524Z"
    }
   },
   "source": [
    "lm_dict = pd.read_csv(\"Loughran-McDonald_MasterDictionary_1993-2023.csv\")\n",
    "lm_dict"
   ],
   "outputs": [
    {
     "ename": "NameError",
     "evalue": "name 'pd' is not defined",
     "output_type": "error",
     "traceback": [
      "\u001B[1;31m---------------------------------------------------------------------------\u001B[0m",
      "\u001B[1;31mNameError\u001B[0m                                 Traceback (most recent call last)",
      "Cell \u001B[1;32mIn[8], line 1\u001B[0m\n\u001B[1;32m----> 1\u001B[0m lm_dict \u001B[38;5;241m=\u001B[39m \u001B[43mpd\u001B[49m\u001B[38;5;241m.\u001B[39mread_csv(\u001B[38;5;124m\"\u001B[39m\u001B[38;5;124mLoughran-McDonald_MasterDictionary_1993-2023.csv\u001B[39m\u001B[38;5;124m\"\u001B[39m)\n\u001B[0;32m      2\u001B[0m lm_dict\n",
      "\u001B[1;31mNameError\u001B[0m: name 'pd' is not defined"
     ]
    }
   ],
   "execution_count": 8
  },
  {
   "cell_type": "code",
   "metadata": {
    "ExecuteTime": {
     "end_time": "2024-07-25T18:05:37.140963Z",
     "start_time": "2024-07-25T18:05:37.120945Z"
    }
   },
   "source": [
    "pos_words = lm_dict[lm_dict[\"Positive\"] != 0][\"Word\"].str.lower().to_list()\n",
    "neg_words = lm_dict[lm_dict[\"Negative\"] != 0][\"Word\"].str.lower().to_list()\n",
    "\n",
    "pos_words[:10]"
   ],
   "outputs": [
    {
     "ename": "NameError",
     "evalue": "name 'lm_dict' is not defined",
     "output_type": "error",
     "traceback": [
      "\u001B[1;31m---------------------------------------------------------------------------\u001B[0m",
      "\u001B[1;31mNameError\u001B[0m                                 Traceback (most recent call last)",
      "Cell \u001B[1;32mIn[9], line 1\u001B[0m\n\u001B[1;32m----> 1\u001B[0m pos_words \u001B[38;5;241m=\u001B[39m \u001B[43mlm_dict\u001B[49m[lm_dict[\u001B[38;5;124m\"\u001B[39m\u001B[38;5;124mPositive\u001B[39m\u001B[38;5;124m\"\u001B[39m] \u001B[38;5;241m!=\u001B[39m \u001B[38;5;241m0\u001B[39m][\u001B[38;5;124m\"\u001B[39m\u001B[38;5;124mWord\u001B[39m\u001B[38;5;124m\"\u001B[39m]\u001B[38;5;241m.\u001B[39mstr\u001B[38;5;241m.\u001B[39mlower()\u001B[38;5;241m.\u001B[39mto_list()\n\u001B[0;32m      2\u001B[0m neg_words \u001B[38;5;241m=\u001B[39m lm_dict[lm_dict[\u001B[38;5;124m\"\u001B[39m\u001B[38;5;124mNegative\u001B[39m\u001B[38;5;124m\"\u001B[39m] \u001B[38;5;241m!=\u001B[39m \u001B[38;5;241m0\u001B[39m][\u001B[38;5;124m\"\u001B[39m\u001B[38;5;124mWord\u001B[39m\u001B[38;5;124m\"\u001B[39m]\u001B[38;5;241m.\u001B[39mstr\u001B[38;5;241m.\u001B[39mlower()\u001B[38;5;241m.\u001B[39mto_list()\n\u001B[0;32m      4\u001B[0m pos_words[:\u001B[38;5;241m10\u001B[39m]\n",
      "\u001B[1;31mNameError\u001B[0m: name 'lm_dict' is not defined"
     ]
    }
   ],
   "execution_count": 9
  },
  {
   "cell_type": "code",
   "metadata": {
    "ExecuteTime": {
     "end_time": "2024-07-25T18:05:39.814030Z",
     "start_time": "2024-07-25T18:05:39.794034Z"
    }
   },
   "source": [
    "neg_words[:10]"
   ],
   "outputs": [
    {
     "ename": "NameError",
     "evalue": "name 'neg_words' is not defined",
     "output_type": "error",
     "traceback": [
      "\u001B[1;31m---------------------------------------------------------------------------\u001B[0m",
      "\u001B[1;31mNameError\u001B[0m                                 Traceback (most recent call last)",
      "Cell \u001B[1;32mIn[10], line 1\u001B[0m\n\u001B[1;32m----> 1\u001B[0m \u001B[43mneg_words\u001B[49m[:\u001B[38;5;241m10\u001B[39m]\n",
      "\u001B[1;31mNameError\u001B[0m: name 'neg_words' is not defined"
     ]
    }
   ],
   "execution_count": 10
  },
  {
   "cell_type": "markdown",
   "metadata": {},
   "source": [
    "### Sentiment score\n",
    "\n",
    "The sentiment score of a text is the sum of the sentiment scores of the words it contains. We can also normalize the score by the number of words in the text."
   ]
  },
  {
   "cell_type": "code",
   "metadata": {
    "ExecuteTime": {
     "end_time": "2024-07-25T18:05:43.985485Z",
     "start_time": "2024-07-25T18:05:43.965517Z"
    }
   },
   "source": [
    "df[\"n\"] = df[\"text_clean\"].apply(lambda x: len(x.split()))\n",
    "df[\"n_pos\"] = df[\"text_clean\"].apply(\n",
    "    lambda x: len([w for w in x.split() if w in pos_words])\n",
    ")\n",
    "df[\"n_neg\"] = df[\"text_clean\"].apply(\n",
    "    lambda x: len([w for w in x.split() if w in neg_words])\n",
    ")\n",
    "\n",
    "df"
   ],
   "outputs": [
    {
     "ename": "NameError",
     "evalue": "name 'df' is not defined",
     "output_type": "error",
     "traceback": [
      "\u001B[1;31m---------------------------------------------------------------------------\u001B[0m",
      "\u001B[1;31mNameError\u001B[0m                                 Traceback (most recent call last)",
      "Cell \u001B[1;32mIn[11], line 1\u001B[0m\n\u001B[1;32m----> 1\u001B[0m df[\u001B[38;5;124m\"\u001B[39m\u001B[38;5;124mn\u001B[39m\u001B[38;5;124m\"\u001B[39m] \u001B[38;5;241m=\u001B[39m \u001B[43mdf\u001B[49m[\u001B[38;5;124m\"\u001B[39m\u001B[38;5;124mtext_clean\u001B[39m\u001B[38;5;124m\"\u001B[39m]\u001B[38;5;241m.\u001B[39mapply(\u001B[38;5;28;01mlambda\u001B[39;00m x: \u001B[38;5;28mlen\u001B[39m(x\u001B[38;5;241m.\u001B[39msplit()))\n\u001B[0;32m      2\u001B[0m df[\u001B[38;5;124m\"\u001B[39m\u001B[38;5;124mn_pos\u001B[39m\u001B[38;5;124m\"\u001B[39m] \u001B[38;5;241m=\u001B[39m df[\u001B[38;5;124m\"\u001B[39m\u001B[38;5;124mtext_clean\u001B[39m\u001B[38;5;124m\"\u001B[39m]\u001B[38;5;241m.\u001B[39mapply(\n\u001B[0;32m      3\u001B[0m     \u001B[38;5;28;01mlambda\u001B[39;00m x: \u001B[38;5;28mlen\u001B[39m([w \u001B[38;5;28;01mfor\u001B[39;00m w \u001B[38;5;129;01min\u001B[39;00m x\u001B[38;5;241m.\u001B[39msplit() \u001B[38;5;28;01mif\u001B[39;00m w \u001B[38;5;129;01min\u001B[39;00m pos_words])\n\u001B[0;32m      4\u001B[0m )\n\u001B[0;32m      5\u001B[0m df[\u001B[38;5;124m\"\u001B[39m\u001B[38;5;124mn_neg\u001B[39m\u001B[38;5;124m\"\u001B[39m] \u001B[38;5;241m=\u001B[39m df[\u001B[38;5;124m\"\u001B[39m\u001B[38;5;124mtext_clean\u001B[39m\u001B[38;5;124m\"\u001B[39m]\u001B[38;5;241m.\u001B[39mapply(\n\u001B[0;32m      6\u001B[0m     \u001B[38;5;28;01mlambda\u001B[39;00m x: \u001B[38;5;28mlen\u001B[39m([w \u001B[38;5;28;01mfor\u001B[39;00m w \u001B[38;5;129;01min\u001B[39;00m x\u001B[38;5;241m.\u001B[39msplit() \u001B[38;5;28;01mif\u001B[39;00m w \u001B[38;5;129;01min\u001B[39;00m neg_words])\n\u001B[0;32m      7\u001B[0m )\n",
      "\u001B[1;31mNameError\u001B[0m: name 'df' is not defined"
     ]
    }
   ],
   "execution_count": 11
  },
  {
   "cell_type": "code",
   "metadata": {
    "ExecuteTime": {
     "end_time": "2024-07-25T18:05:45.362484Z",
     "start_time": "2024-07-25T18:05:45.342479Z"
    }
   },
   "source": [
    "df[\"lm_level\"] = df[\"n_pos\"] - df[\"n_neg\"]\n",
    "\n",
    "df[\"lm_score1\"] = (df[\"n_pos\"] - df[\"n_neg\"]) / df[\"n\"]\n",
    "df[\"lm_score2\"] = (df[\"n_pos\"] - df[\"n_neg\"]) / (df[\"n_pos\"] + df[\"n_neg\"])\n",
    "\n",
    "CUTOFF = 0.3\n",
    "df[\"lm_sentiment\"] = df[\"lm_score2\"].apply(\n",
    "    lambda x: \"positive\" if x > CUTOFF else \"negative\" if x < -CUTOFF else \"neutral\"\n",
    ")\n",
    "df"
   ],
   "outputs": [
    {
     "ename": "NameError",
     "evalue": "name 'df' is not defined",
     "output_type": "error",
     "traceback": [
      "\u001B[1;31m---------------------------------------------------------------------------\u001B[0m",
      "\u001B[1;31mNameError\u001B[0m                                 Traceback (most recent call last)",
      "Cell \u001B[1;32mIn[12], line 1\u001B[0m\n\u001B[1;32m----> 1\u001B[0m df[\u001B[38;5;124m\"\u001B[39m\u001B[38;5;124mlm_level\u001B[39m\u001B[38;5;124m\"\u001B[39m] \u001B[38;5;241m=\u001B[39m \u001B[43mdf\u001B[49m[\u001B[38;5;124m\"\u001B[39m\u001B[38;5;124mn_pos\u001B[39m\u001B[38;5;124m\"\u001B[39m] \u001B[38;5;241m-\u001B[39m df[\u001B[38;5;124m\"\u001B[39m\u001B[38;5;124mn_neg\u001B[39m\u001B[38;5;124m\"\u001B[39m]\n\u001B[0;32m      3\u001B[0m df[\u001B[38;5;124m\"\u001B[39m\u001B[38;5;124mlm_score1\u001B[39m\u001B[38;5;124m\"\u001B[39m] \u001B[38;5;241m=\u001B[39m (df[\u001B[38;5;124m\"\u001B[39m\u001B[38;5;124mn_pos\u001B[39m\u001B[38;5;124m\"\u001B[39m] \u001B[38;5;241m-\u001B[39m df[\u001B[38;5;124m\"\u001B[39m\u001B[38;5;124mn_neg\u001B[39m\u001B[38;5;124m\"\u001B[39m]) \u001B[38;5;241m/\u001B[39m df[\u001B[38;5;124m\"\u001B[39m\u001B[38;5;124mn\u001B[39m\u001B[38;5;124m\"\u001B[39m]\n\u001B[0;32m      4\u001B[0m df[\u001B[38;5;124m\"\u001B[39m\u001B[38;5;124mlm_score2\u001B[39m\u001B[38;5;124m\"\u001B[39m] \u001B[38;5;241m=\u001B[39m (df[\u001B[38;5;124m\"\u001B[39m\u001B[38;5;124mn_pos\u001B[39m\u001B[38;5;124m\"\u001B[39m] \u001B[38;5;241m-\u001B[39m df[\u001B[38;5;124m\"\u001B[39m\u001B[38;5;124mn_neg\u001B[39m\u001B[38;5;124m\"\u001B[39m]) \u001B[38;5;241m/\u001B[39m (df[\u001B[38;5;124m\"\u001B[39m\u001B[38;5;124mn_pos\u001B[39m\u001B[38;5;124m\"\u001B[39m] \u001B[38;5;241m+\u001B[39m df[\u001B[38;5;124m\"\u001B[39m\u001B[38;5;124mn_neg\u001B[39m\u001B[38;5;124m\"\u001B[39m])\n",
      "\u001B[1;31mNameError\u001B[0m: name 'df' is not defined"
     ]
    }
   ],
   "execution_count": 12
  },
  {
   "cell_type": "markdown",
   "metadata": {},
   "source": [
    "## Bert-based models\n",
    "\n",
    "BERT-based models are often called \"state-of-the-art models\" in recent papers in the finance even if the original [Bert paper](https://arxiv.org/abs/1810.04805) dates from 2018 and many more advanced models have come along since. They are pre-trained on a large corpus of text and fine-tuned on a specific task. In this case, we will use FinBert, a BERT model fine-tuned on financial data (see [FinBert paper](https://arxiv.org/abs/1908.10063)).\n",
    "\n",
    "The way these models work is by taking a sequence of tokens as input and outputting a vector of size 768 (or 1024, depending on the model). This vector can be used as input to a classifier to predict the sentiment of the text. The FinBert model is trained to output softmax outputs (ie, probabilities) for three classes: positive, negative, and neutral.\n",
    "\n",
    "### Pre-processing\n",
    "\n",
    "You won't perform any pre-processing on the text before feeding it to the model. The model will take care of tokenizing the text and converting it to a sequence of tokens. Common pre-processing for Bert models include masking some words (date, company names, etc.).\n",
    "\n",
    "\n",
    "### Usage\n",
    "\n",
    "Many Bert models, including FinBert, are available in the Hugging Face Transformers library adn can be fecthed automatically.\n",
    "\n"
   ]
  },
  {
   "cell_type": "code",
   "metadata": {
    "ExecuteTime": {
     "end_time": "2024-07-25T18:05:55.077790Z",
     "start_time": "2024-07-25T18:05:52.775218Z"
    }
   },
   "source": [
    "from transformers import AutoTokenizer, AutoModelForSequenceClassification\n",
    "import scipy\n",
    "import torch"
   ],
   "outputs": [],
   "execution_count": 13
  },
  {
   "cell_type": "code",
   "metadata": {
    "ExecuteTime": {
     "end_time": "2024-07-25T18:06:03.079998Z",
     "start_time": "2024-07-25T18:05:56.369627Z"
    }
   },
   "source": [
    "tokenizer = AutoTokenizer.from_pretrained(\"ProsusAI/finbert\")\n",
    "model = AutoModelForSequenceClassification.from_pretrained(\"ProsusAI/finbert\")"
   ],
   "outputs": [
    {
     "data": {
      "text/plain": [
       "tokenizer_config.json:   0%|          | 0.00/252 [00:00<?, ?B/s]"
      ],
      "application/vnd.jupyter.widget-view+json": {
       "version_major": 2,
       "version_minor": 0,
       "model_id": "9c04d71ddca5411e9a1cb333e0e87a16"
      }
     },
     "metadata": {},
     "output_type": "display_data"
    },
    {
     "name": "stderr",
     "output_type": "stream",
     "text": [
      "C:\\Python3\\lib\\site-packages\\huggingface_hub\\file_download.py:157: UserWarning: `huggingface_hub` cache-system uses symlinks by default to efficiently store duplicated files but your machine does not support them in C:\\Users\\eo19181\\.cache\\huggingface\\hub\\models--ProsusAI--finbert. Caching files will still work but in a degraded version that might require more space on your disk. This warning can be disabled by setting the `HF_HUB_DISABLE_SYMLINKS_WARNING` environment variable. For more details, see https://huggingface.co/docs/huggingface_hub/how-to-cache#limitations.\n",
      "To support symlinks on Windows, you either need to activate Developer Mode or to run Python as an administrator. In order to see activate developer mode, see this article: https://docs.microsoft.com/en-us/windows/apps/get-started/enable-your-device-for-development\n",
      "  warnings.warn(message)\n",
      "C:\\Python3\\lib\\site-packages\\huggingface_hub\\file_download.py:1132: FutureWarning: `resume_download` is deprecated and will be removed in version 1.0.0. Downloads always resume when possible. If you want to force a new download, use `force_download=True`.\n",
      "  warnings.warn(\n"
     ]
    },
    {
     "data": {
      "text/plain": [
       "config.json:   0%|          | 0.00/758 [00:00<?, ?B/s]"
      ],
      "application/vnd.jupyter.widget-view+json": {
       "version_major": 2,
       "version_minor": 0,
       "model_id": "dcb3f1fe120b4f948120fc294ca8d973"
      }
     },
     "metadata": {},
     "output_type": "display_data"
    },
    {
     "data": {
      "text/plain": [
       "vocab.txt:   0%|          | 0.00/232k [00:00<?, ?B/s]"
      ],
      "application/vnd.jupyter.widget-view+json": {
       "version_major": 2,
       "version_minor": 0,
       "model_id": "9d89341fc82245b68f4a7106d37a99ac"
      }
     },
     "metadata": {},
     "output_type": "display_data"
    },
    {
     "data": {
      "text/plain": [
       "special_tokens_map.json:   0%|          | 0.00/112 [00:00<?, ?B/s]"
      ],
      "application/vnd.jupyter.widget-view+json": {
       "version_major": 2,
       "version_minor": 0,
       "model_id": "839223ef508b464eb5ab569801f618e1"
      }
     },
     "metadata": {},
     "output_type": "display_data"
    },
    {
     "data": {
      "text/plain": [
       "pytorch_model.bin:   0%|          | 0.00/438M [00:00<?, ?B/s]"
      ],
      "application/vnd.jupyter.widget-view+json": {
       "version_major": 2,
       "version_minor": 0,
       "model_id": "408243790829447a9a4ea917b721b57f"
      }
     },
     "metadata": {},
     "output_type": "display_data"
    }
   ],
   "execution_count": 14
  },
  {
   "cell_type": "code",
   "metadata": {
    "ExecuteTime": {
     "end_time": "2024-07-25T18:06:05.699512Z",
     "start_time": "2024-07-25T18:06:05.689504Z"
    }
   },
   "source": [
    "def finbert_sentiment(text: str) -> tuple[float, float, float, str]:\n",
    "    with torch.no_grad():\n",
    "        inputs = tokenizer(\n",
    "            text, return_tensors=\"pt\", padding=True, truncation=True, max_length=512\n",
    "        )\n",
    "        outputs = model(**inputs)\n",
    "        logits = outputs.logits\n",
    "        scores = {\n",
    "            k: v\n",
    "            for k, v in zip(\n",
    "                model.config.id2label.values(),\n",
    "                scipy.special.softmax(logits.numpy().squeeze()),\n",
    "            )\n",
    "        }\n",
    "        return (\n",
    "            scores[\"positive\"],\n",
    "            scores[\"negative\"],\n",
    "            scores[\"neutral\"],\n",
    "            max(scores, key=scores.get),\n",
    "        )"
   ],
   "outputs": [],
   "execution_count": 15
  },
  {
   "cell_type": "code",
   "metadata": {
    "ExecuteTime": {
     "end_time": "2024-07-25T18:06:08.124464Z",
     "start_time": "2024-07-25T18:06:08.015056Z"
    }
   },
   "source": [
    "# Notice that this is the raw text, no preprocessing\n",
    "df[[\"finbert_pos\", \"finbert_neg\", \"finbert_neu\", \"finbert_sentiment\"]] = (\n",
    "    df[\"text\"].apply(finbert_sentiment).apply(pd.Series)\n",
    ")\n",
    "df[\"finbert_score\"] = df[\"finbert_pos\"] - df[\"finbert_neg\"]"
   ],
   "outputs": [
    {
     "ename": "NameError",
     "evalue": "name 'df' is not defined",
     "output_type": "error",
     "traceback": [
      "\u001B[1;31m---------------------------------------------------------------------------\u001B[0m",
      "\u001B[1;31mNameError\u001B[0m                                 Traceback (most recent call last)",
      "Cell \u001B[1;32mIn[16], line 3\u001B[0m\n\u001B[0;32m      1\u001B[0m \u001B[38;5;66;03m# Notice that this is the raw text, no preprocessing\u001B[39;00m\n\u001B[0;32m      2\u001B[0m df[[\u001B[38;5;124m\"\u001B[39m\u001B[38;5;124mfinbert_pos\u001B[39m\u001B[38;5;124m\"\u001B[39m, \u001B[38;5;124m\"\u001B[39m\u001B[38;5;124mfinbert_neg\u001B[39m\u001B[38;5;124m\"\u001B[39m, \u001B[38;5;124m\"\u001B[39m\u001B[38;5;124mfinbert_neu\u001B[39m\u001B[38;5;124m\"\u001B[39m, \u001B[38;5;124m\"\u001B[39m\u001B[38;5;124mfinbert_sentiment\u001B[39m\u001B[38;5;124m\"\u001B[39m]] \u001B[38;5;241m=\u001B[39m (\n\u001B[1;32m----> 3\u001B[0m     \u001B[43mdf\u001B[49m[\u001B[38;5;124m\"\u001B[39m\u001B[38;5;124mtext\u001B[39m\u001B[38;5;124m\"\u001B[39m]\u001B[38;5;241m.\u001B[39mapply(finbert_sentiment)\u001B[38;5;241m.\u001B[39mapply(pd\u001B[38;5;241m.\u001B[39mSeries)\n\u001B[0;32m      4\u001B[0m )\n\u001B[0;32m      5\u001B[0m df[\u001B[38;5;124m\"\u001B[39m\u001B[38;5;124mfinbert_score\u001B[39m\u001B[38;5;124m\"\u001B[39m] \u001B[38;5;241m=\u001B[39m df[\u001B[38;5;124m\"\u001B[39m\u001B[38;5;124mfinbert_pos\u001B[39m\u001B[38;5;124m\"\u001B[39m] \u001B[38;5;241m-\u001B[39m df[\u001B[38;5;124m\"\u001B[39m\u001B[38;5;124mfinbert_neg\u001B[39m\u001B[38;5;124m\"\u001B[39m]\n",
      "\u001B[1;31mNameError\u001B[0m: name 'df' is not defined"
     ]
    }
   ],
   "execution_count": 16
  },
  {
   "cell_type": "code",
   "metadata": {
    "ExecuteTime": {
     "end_time": "2024-07-25T18:06:28.746807Z",
     "start_time": "2024-07-25T18:06:28.726802Z"
    }
   },
   "source": [
    "df[\n",
    "    [\n",
    "        \"title\",\n",
    "        \"text\",\n",
    "        \"finbert_pos\",\n",
    "        \"finbert_neg\",\n",
    "        \"finbert_neu\",\n",
    "        \"finbert_sentiment\",\n",
    "        \"finbert_score\",\n",
    "    ]\n",
    "]"
   ],
   "outputs": [
    {
     "ename": "NameError",
     "evalue": "name 'df' is not defined",
     "output_type": "error",
     "traceback": [
      "\u001B[1;31m---------------------------------------------------------------------------\u001B[0m",
      "\u001B[1;31mNameError\u001B[0m                                 Traceback (most recent call last)",
      "Cell \u001B[1;32mIn[18], line 1\u001B[0m\n\u001B[1;32m----> 1\u001B[0m \u001B[43mdf\u001B[49m[\n\u001B[0;32m      2\u001B[0m     [\n\u001B[0;32m      3\u001B[0m         \u001B[38;5;124m\"\u001B[39m\u001B[38;5;124mtitle\u001B[39m\u001B[38;5;124m\"\u001B[39m,\n\u001B[0;32m      4\u001B[0m         \u001B[38;5;124m\"\u001B[39m\u001B[38;5;124mtext\u001B[39m\u001B[38;5;124m\"\u001B[39m,\n\u001B[0;32m      5\u001B[0m         \u001B[38;5;124m\"\u001B[39m\u001B[38;5;124mfinbert_pos\u001B[39m\u001B[38;5;124m\"\u001B[39m,\n\u001B[0;32m      6\u001B[0m         \u001B[38;5;124m\"\u001B[39m\u001B[38;5;124mfinbert_neg\u001B[39m\u001B[38;5;124m\"\u001B[39m,\n\u001B[0;32m      7\u001B[0m         \u001B[38;5;124m\"\u001B[39m\u001B[38;5;124mfinbert_neu\u001B[39m\u001B[38;5;124m\"\u001B[39m,\n\u001B[0;32m      8\u001B[0m         \u001B[38;5;124m\"\u001B[39m\u001B[38;5;124mfinbert_sentiment\u001B[39m\u001B[38;5;124m\"\u001B[39m,\n\u001B[0;32m      9\u001B[0m         \u001B[38;5;124m\"\u001B[39m\u001B[38;5;124mfinbert_score\u001B[39m\u001B[38;5;124m\"\u001B[39m,\n\u001B[0;32m     10\u001B[0m     ]\n\u001B[0;32m     11\u001B[0m ]\n",
      "\u001B[1;31mNameError\u001B[0m: name 'df' is not defined"
     ]
    }
   ],
   "execution_count": 18
  },
  {
   "cell_type": "markdown",
   "metadata": {},
   "source": []
  },
  {
   "cell_type": "markdown",
   "metadata": {},
   "source": [
    "## LLM models\n",
    "\n",
    "LLM models are large language models that are trained on a large corpus of text. They are often used for text generation, but they can also be used for sentiment analysis. The approach is to design a prompt that will make the model output a sentiment score. Langchain is a library that makes it easy to use LLM models for different tasks, including sentiment analysis.\n",
    "    "
   ]
  },
  {
   "cell_type": "code",
   "metadata": {
    "ExecuteTime": {
     "end_time": "2024-07-25T18:06:36.315331Z",
     "start_time": "2024-07-25T18:06:36.235310Z"
    }
   },
   "source": [
    "from langchain_core.pydantic_v1 import BaseModel, Field\n",
    "from langchain_core.prompts import PromptTemplate\n",
    "from langchain_core.output_parsers import PydanticOutputParser"
   ],
   "outputs": [],
   "execution_count": 19
  },
  {
   "cell_type": "code",
   "metadata": {
    "ExecuteTime": {
     "end_time": "2024-07-25T18:06:37.239079Z",
     "start_time": "2024-07-25T18:06:37.084711Z"
    }
   },
   "source": [
    "from langchain_community.chat_models import ChatOllama"
   ],
   "outputs": [],
   "execution_count": 20
  },
  {
   "cell_type": "code",
   "metadata": {
    "ExecuteTime": {
     "end_time": "2024-07-25T18:06:38.372795Z",
     "start_time": "2024-07-25T18:06:38.362808Z"
    }
   },
   "source": [
    "# For handling errors\n",
    "from tenacity import retry, stop_after_attempt, RetryError"
   ],
   "outputs": [],
   "execution_count": 21
  },
  {
   "cell_type": "markdown",
   "metadata": {},
   "source": [
    "We will first define the desired output format as a Pydantic model, from which we will\n",
    "create a PydanticOutputParser object. This object will be used to inject output\n",
    "definition into the prompt and to parse the output of the model. "
   ]
  },
  {
   "cell_type": "code",
   "metadata": {
    "ExecuteTime": {
     "end_time": "2024-07-25T18:06:41.484303Z",
     "start_time": "2024-07-25T18:06:41.464243Z"
    }
   },
   "source": [
    "class SentimentClassification(BaseModel):\n",
    "    sentiment: str = Field(\n",
    "        ...,\n",
    "        description=\"The sentiment of the text\",\n",
    "        enum=[\"positive\", \"negative\", \"neutral\"],\n",
    "    )\n",
    "    score: float = Field(..., description=\"The score of the sentiment\", ge=-1, le=1)\n",
    "    justification: str = Field(..., description=\"The justification of the sentiment\")\n",
    "    main_entity: str = Field(..., description=\"The main entity discussed in the text\")"
   ],
   "outputs": [],
   "execution_count": 22
  },
  {
   "cell_type": "code",
   "metadata": {
    "ExecuteTime": {
     "end_time": "2024-07-25T18:14:03.474267Z",
     "start_time": "2024-07-25T18:14:03.454253Z"
    }
   },
   "source": [
    "@retry(stop=stop_after_attempt(10))\n",
    "def run_chain(text: str, chain) -> dict:\n",
    "    return chain.invoke({\"news\": text}).dict()\n",
    "\n",
    "\n",
    "def llm_sentiment(text: str, llm) -> tuple[str, float, str, str]:\n",
    "    parser = PydanticOutputParser(pydantic_object=SentimentClassification)\n",
    "\n",
    "    prompt = PromptTemplate(\n",
    "        template=\"Describe the sentiment of a text of financial news.\\n{format_instructions}\\n{news}\\n\",\n",
    "        input_variables=[\"news\"],\n",
    "        partial_variables={\"format_instructions\": parser.get_format_instructions()},\n",
    "    )\n",
    "\n",
    "    chain = prompt | llm | parser\n",
    "\n",
    "    try:\n",
    "        result = run_chain(text, chain)\n",
    "\n",
    "        return (\n",
    "            result[\"sentiment\"],\n",
    "            result[\"score\"],\n",
    "            result[\"justification\"],\n",
    "            result[\"main_entity\"],\n",
    "        )\n",
    "    except RetryError as e:\n",
    "        print(f\"Error: {e}\")\n",
    "        return \"error\", 0, \"\", \"\""
   ],
   "outputs": [],
   "execution_count": 25
  },
  {
   "cell_type": "code",
   "metadata": {
    "ExecuteTime": {
     "end_time": "2024-07-25T18:14:04.449443Z",
     "start_time": "2024-07-25T18:14:04.419430Z"
    }
   },
   "source": [
    "# Replace with the correct model, or use ChatOpenAI if you want to use OpenAI\n",
    "llama2 = ChatOllama(model=\"llama2\", temperature=0.1)\n",
    "\n",
    "df[\n",
    "    [\"llama2_sentiment\", \"llama2_score\", \"llama2_justification\", \"llama2_main_entity\"]\n",
    "] = (df[\"text\"].apply(lambda x: llm_sentiment(x, llama2)).apply(pd.Series))"
   ],
   "outputs": [
    {
     "ename": "NameError",
     "evalue": "name 'df' is not defined",
     "output_type": "error",
     "traceback": [
      "\u001B[1;31m---------------------------------------------------------------------------\u001B[0m",
      "\u001B[1;31mNameError\u001B[0m                                 Traceback (most recent call last)",
      "Cell \u001B[1;32mIn[26], line 6\u001B[0m\n\u001B[0;32m      1\u001B[0m \u001B[38;5;66;03m# Replace with the correct model, or use ChatOpenAI if you want to use OpenAI\u001B[39;00m\n\u001B[0;32m      2\u001B[0m llama2 \u001B[38;5;241m=\u001B[39m ChatOllama(model\u001B[38;5;241m=\u001B[39m\u001B[38;5;124m\"\u001B[39m\u001B[38;5;124mllama2\u001B[39m\u001B[38;5;124m\"\u001B[39m, temperature\u001B[38;5;241m=\u001B[39m\u001B[38;5;241m0.1\u001B[39m)\n\u001B[0;32m      4\u001B[0m df[\n\u001B[0;32m      5\u001B[0m     [\u001B[38;5;124m\"\u001B[39m\u001B[38;5;124mllama2_sentiment\u001B[39m\u001B[38;5;124m\"\u001B[39m, \u001B[38;5;124m\"\u001B[39m\u001B[38;5;124mllama2_score\u001B[39m\u001B[38;5;124m\"\u001B[39m, \u001B[38;5;124m\"\u001B[39m\u001B[38;5;124mllama2_justification\u001B[39m\u001B[38;5;124m\"\u001B[39m, \u001B[38;5;124m\"\u001B[39m\u001B[38;5;124mllama2_main_entity\u001B[39m\u001B[38;5;124m\"\u001B[39m]\n\u001B[1;32m----> 6\u001B[0m ] \u001B[38;5;241m=\u001B[39m (\u001B[43mdf\u001B[49m[\u001B[38;5;124m\"\u001B[39m\u001B[38;5;124mtext\u001B[39m\u001B[38;5;124m\"\u001B[39m]\u001B[38;5;241m.\u001B[39mapply(\u001B[38;5;28;01mlambda\u001B[39;00m x: llm_sentiment(x, llama2))\u001B[38;5;241m.\u001B[39mapply(pd\u001B[38;5;241m.\u001B[39mSeries))\n",
      "\u001B[1;31mNameError\u001B[0m: name 'df' is not defined"
     ]
    }
   ],
   "execution_count": 26
  },
  {
   "cell_type": "code",
   "metadata": {
    "ExecuteTime": {
     "end_time": "2024-07-25T18:14:08.121213Z",
     "start_time": "2024-07-25T18:14:08.101445Z"
    }
   },
   "source": [
    "df[\n",
    "    [\n",
    "        \"title\",\n",
    "        \"text\",\n",
    "        \"llama2_sentiment\",\n",
    "        \"llama2_score\",\n",
    "        \"llama2_justification\",\n",
    "        \"llama2_main_entity\",\n",
    "    ]\n",
    "]"
   ],
   "outputs": [
    {
     "ename": "NameError",
     "evalue": "name 'df' is not defined",
     "output_type": "error",
     "traceback": [
      "\u001B[1;31m---------------------------------------------------------------------------\u001B[0m",
      "\u001B[1;31mNameError\u001B[0m                                 Traceback (most recent call last)",
      "Cell \u001B[1;32mIn[27], line 1\u001B[0m\n\u001B[1;32m----> 1\u001B[0m \u001B[43mdf\u001B[49m[\n\u001B[0;32m      2\u001B[0m     [\n\u001B[0;32m      3\u001B[0m         \u001B[38;5;124m\"\u001B[39m\u001B[38;5;124mtitle\u001B[39m\u001B[38;5;124m\"\u001B[39m,\n\u001B[0;32m      4\u001B[0m         \u001B[38;5;124m\"\u001B[39m\u001B[38;5;124mtext\u001B[39m\u001B[38;5;124m\"\u001B[39m,\n\u001B[0;32m      5\u001B[0m         \u001B[38;5;124m\"\u001B[39m\u001B[38;5;124mllama2_sentiment\u001B[39m\u001B[38;5;124m\"\u001B[39m,\n\u001B[0;32m      6\u001B[0m         \u001B[38;5;124m\"\u001B[39m\u001B[38;5;124mllama2_score\u001B[39m\u001B[38;5;124m\"\u001B[39m,\n\u001B[0;32m      7\u001B[0m         \u001B[38;5;124m\"\u001B[39m\u001B[38;5;124mllama2_justification\u001B[39m\u001B[38;5;124m\"\u001B[39m,\n\u001B[0;32m      8\u001B[0m         \u001B[38;5;124m\"\u001B[39m\u001B[38;5;124mllama2_main_entity\u001B[39m\u001B[38;5;124m\"\u001B[39m,\n\u001B[0;32m      9\u001B[0m     ]\n\u001B[0;32m     10\u001B[0m ]\n",
      "\u001B[1;31mNameError\u001B[0m: name 'df' is not defined"
     ]
    }
   ],
   "execution_count": 27
  },
  {
   "cell_type": "code",
   "execution_count": 46,
   "metadata": {
    "ExecuteTime": {
     "end_time": "2024-07-23T03:13:04.678154Z",
     "start_time": "2024-07-23T03:13:04.515444Z"
    }
   },
   "outputs": [
    {
     "name": "stdout",
     "output_type": "stream",
     "text": [
      "Error: RetryError[<Future at 0x145bcedd0 state=finished raised ConnectionError>]\n",
      "Error: RetryError[<Future at 0x145beb2d0 state=finished raised ConnectionError>]\n",
      "Error: RetryError[<Future at 0x145bb3bd0 state=finished raised ConnectionError>]\n",
      "Error: RetryError[<Future at 0x145bb5c10 state=finished raised ConnectionError>]\n",
      "Error: RetryError[<Future at 0x145bea9d0 state=finished raised ConnectionError>]\n"
     ]
    }
   ],
   "source": [
    "mixtral = ChatOllama(model=\"dolphin-mixtral:latest\", temperature=0.1)\n",
    "\n",
    "df[\n",
    "    [\n",
    "        \"mixtral_sentiment\",\n",
    "        \"mixtral_score\",\n",
    "        \"mixtral_justification\",\n",
    "        \"mixtral_main_entity\",\n",
    "    ]\n",
    "] = (\n",
    "    df[\"text\"].apply(lambda x: llm_sentiment(x, mixtral)).apply(pd.Series)\n",
    ")"
   ]
  },
  {
   "cell_type": "code",
   "execution_count": 47,
   "metadata": {
    "ExecuteTime": {
     "end_time": "2024-07-23T03:13:04.694720Z",
     "start_time": "2024-07-23T03:13:04.635707Z"
    }
   },
   "outputs": [
    {
     "data": {
      "text/plain": "                                               title  \\\n0  Ether ETFs to start trading after SEC green li...   \n1  Crypto surges on political respect as Donald T...   \n2              ETF Stands for 'Everything That Fits'   \n3  Boeing Shares Fall in Premarket Trade After Ea...   \n4  Solar Stocks Aren’t Having a Good Run. Why The...   \n\n                                                text mixtral_sentiment  \\\n0  Exchange-traded funds that hold ether (ETH-USD...             error   \n1  Crypto is surging again on a new wave of polit...             error   \n2  One of the main crypto narratives this year ha...             error   \n3  Boeing shares fall in premarket trade after ea...             error   \n4  There are no important events for this country...             error   \n\n   mixtral_score mixtral_justification mixtral_main_entity  \n0              0                                            \n1              0                                            \n2              0                                            \n3              0                                            \n4              0                                            ",
      "text/html": "<div>\n<style scoped>\n    .dataframe tbody tr th:only-of-type {\n        vertical-align: middle;\n    }\n\n    .dataframe tbody tr th {\n        vertical-align: top;\n    }\n\n    .dataframe thead th {\n        text-align: right;\n    }\n</style>\n<table border=\"1\" class=\"dataframe\">\n  <thead>\n    <tr style=\"text-align: right;\">\n      <th></th>\n      <th>title</th>\n      <th>text</th>\n      <th>mixtral_sentiment</th>\n      <th>mixtral_score</th>\n      <th>mixtral_justification</th>\n      <th>mixtral_main_entity</th>\n    </tr>\n  </thead>\n  <tbody>\n    <tr>\n      <th>0</th>\n      <td>Ether ETFs to start trading after SEC green li...</td>\n      <td>Exchange-traded funds that hold ether (ETH-USD...</td>\n      <td>error</td>\n      <td>0</td>\n      <td></td>\n      <td></td>\n    </tr>\n    <tr>\n      <th>1</th>\n      <td>Crypto surges on political respect as Donald T...</td>\n      <td>Crypto is surging again on a new wave of polit...</td>\n      <td>error</td>\n      <td>0</td>\n      <td></td>\n      <td></td>\n    </tr>\n    <tr>\n      <th>2</th>\n      <td>ETF Stands for 'Everything That Fits'</td>\n      <td>One of the main crypto narratives this year ha...</td>\n      <td>error</td>\n      <td>0</td>\n      <td></td>\n      <td></td>\n    </tr>\n    <tr>\n      <th>3</th>\n      <td>Boeing Shares Fall in Premarket Trade After Ea...</td>\n      <td>Boeing shares fall in premarket trade after ea...</td>\n      <td>error</td>\n      <td>0</td>\n      <td></td>\n      <td></td>\n    </tr>\n    <tr>\n      <th>4</th>\n      <td>Solar Stocks Aren’t Having a Good Run. Why The...</td>\n      <td>There are no important events for this country...</td>\n      <td>error</td>\n      <td>0</td>\n      <td></td>\n      <td></td>\n    </tr>\n  </tbody>\n</table>\n</div>"
     },
     "execution_count": 47,
     "metadata": {},
     "output_type": "execute_result"
    }
   ],
   "source": [
    "df[\n",
    "    [\n",
    "        \"title\",\n",
    "        \"text\",\n",
    "        \"mixtral_sentiment\",\n",
    "        \"mixtral_score\",\n",
    "        \"mixtral_justification\",\n",
    "        \"mixtral_main_entity\",\n",
    "    ]\n",
    "]"
   ]
  },
  {
   "cell_type": "code",
   "execution_count": 48,
   "metadata": {
    "ExecuteTime": {
     "end_time": "2024-07-23T03:13:04.695072Z",
     "start_time": "2024-07-23T03:13:04.651969Z"
    }
   },
   "outputs": [
    {
     "name": "stdout",
     "output_type": "stream",
     "text": [
      "Exchange-traded funds that hold ether (ETH-USD) can start trading\n",
      "following final approval from regulators on Monday, according to the\n",
      "money managers that will oversee the new ETFs.  The Securities and\n",
      "Exchange Commission gave the green light Monday to BlackRock (BLK),\n",
      "Fidelity, Franklin Templeton, Grayscale, and 21 Shares, the companies\n",
      "said.  Trading could begin as early as Tuesday.  The moves could make\n",
      "ether, the world’s second-largest cryptocurrency, a potential staple\n",
      "in 401(k)s, IRAs, and...\n",
      "\n",
      "Llama2: \n",
      "\n",
      "Mixtral: \n"
     ]
    }
   ],
   "source": [
    "import textwrap\n",
    "\n",
    "print(textwrap.fill(df.iloc[0][\"text\"][:500] + \"...\") + \"\\n\")\n",
    "print(\"Llama2: \" + textwrap.fill(df.iloc[0][\"llama2_justification\"]) + \"\\n\")\n",
    "print(\"Mixtral: \" + textwrap.fill(df.iloc[0][\"mixtral_justification\"]))"
   ]
  },
  {
   "cell_type": "markdown",
   "metadata": {},
   "source": []
  },
  {
   "cell_type": "code",
   "execution_count": 49,
   "metadata": {
    "ExecuteTime": {
     "end_time": "2024-07-23T03:13:04.695440Z",
     "start_time": "2024-07-23T03:13:04.652498Z"
    }
   },
   "outputs": [
    {
     "data": {
      "text/plain": "                                               title  \\\n0  Ether ETFs to start trading after SEC green li...   \n1  Crypto surges on political respect as Donald T...   \n2              ETF Stands for 'Everything That Fits'   \n3  Boeing Shares Fall in Premarket Trade After Ea...   \n4  Solar Stocks Aren’t Having a Good Run. Why The...   \n\n                                                text lm_sentiment  \\\n0  Exchange-traded funds that hold ether (ETH-USD...     positive   \n1  Crypto is surging again on a new wave of polit...      neutral   \n2  One of the main crypto narratives this year ha...      neutral   \n3  Boeing shares fall in premarket trade after ea...      neutral   \n4  There are no important events for this country...      neutral   \n\n  finbert_sentiment llama2_sentiment mixtral_sentiment  \n0          positive            error             error  \n1          positive            error             error  \n2           neutral            error             error  \n3          negative            error             error  \n4           neutral            error             error  ",
      "text/html": "<div>\n<style scoped>\n    .dataframe tbody tr th:only-of-type {\n        vertical-align: middle;\n    }\n\n    .dataframe tbody tr th {\n        vertical-align: top;\n    }\n\n    .dataframe thead th {\n        text-align: right;\n    }\n</style>\n<table border=\"1\" class=\"dataframe\">\n  <thead>\n    <tr style=\"text-align: right;\">\n      <th></th>\n      <th>title</th>\n      <th>text</th>\n      <th>lm_sentiment</th>\n      <th>finbert_sentiment</th>\n      <th>llama2_sentiment</th>\n      <th>mixtral_sentiment</th>\n    </tr>\n  </thead>\n  <tbody>\n    <tr>\n      <th>0</th>\n      <td>Ether ETFs to start trading after SEC green li...</td>\n      <td>Exchange-traded funds that hold ether (ETH-USD...</td>\n      <td>positive</td>\n      <td>positive</td>\n      <td>error</td>\n      <td>error</td>\n    </tr>\n    <tr>\n      <th>1</th>\n      <td>Crypto surges on political respect as Donald T...</td>\n      <td>Crypto is surging again on a new wave of polit...</td>\n      <td>neutral</td>\n      <td>positive</td>\n      <td>error</td>\n      <td>error</td>\n    </tr>\n    <tr>\n      <th>2</th>\n      <td>ETF Stands for 'Everything That Fits'</td>\n      <td>One of the main crypto narratives this year ha...</td>\n      <td>neutral</td>\n      <td>neutral</td>\n      <td>error</td>\n      <td>error</td>\n    </tr>\n    <tr>\n      <th>3</th>\n      <td>Boeing Shares Fall in Premarket Trade After Ea...</td>\n      <td>Boeing shares fall in premarket trade after ea...</td>\n      <td>neutral</td>\n      <td>negative</td>\n      <td>error</td>\n      <td>error</td>\n    </tr>\n    <tr>\n      <th>4</th>\n      <td>Solar Stocks Aren’t Having a Good Run. Why The...</td>\n      <td>There are no important events for this country...</td>\n      <td>neutral</td>\n      <td>neutral</td>\n      <td>error</td>\n      <td>error</td>\n    </tr>\n  </tbody>\n</table>\n</div>"
     },
     "execution_count": 49,
     "metadata": {},
     "output_type": "execute_result"
    }
   ],
   "source": [
    "df[\n",
    "    [\n",
    "        \"title\",\n",
    "        \"text\",\n",
    "        \"lm_sentiment\",\n",
    "        \"finbert_sentiment\",\n",
    "        \"llama2_sentiment\",\n",
    "        \"mixtral_sentiment\",\n",
    "    ]\n",
    "]"
   ]
  },
  {
   "cell_type": "code",
   "execution_count": 49,
   "metadata": {
    "ExecuteTime": {
     "end_time": "2024-07-23T03:13:04.695536Z",
     "start_time": "2024-07-23T03:13:04.652696Z"
    }
   },
   "outputs": [],
   "source": []
  }
 ],
 "metadata": {
  "kernelspec": {
   "display_name": ".venv",
   "language": "python",
   "name": "python3"
  },
  "language_info": {
   "codemirror_mode": {
    "name": "ipython",
    "version": 3
   },
   "file_extension": ".py",
   "mimetype": "text/x-python",
   "name": "python",
   "nbconvert_exporter": "python",
   "pygments_lexer": "ipython3",
   "version": "3.12.2"
  }
 },
 "nbformat": 4,
 "nbformat_minor": 2
}
