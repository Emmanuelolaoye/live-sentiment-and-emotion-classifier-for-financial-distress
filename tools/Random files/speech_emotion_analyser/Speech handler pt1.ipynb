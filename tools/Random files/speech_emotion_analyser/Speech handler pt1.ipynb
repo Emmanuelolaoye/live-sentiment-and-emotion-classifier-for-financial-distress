{
 "cells": [
  {
   "cell_type": "code",
   "id": "initial_id",
   "metadata": {
    "collapsed": true,
    "jupyter": {
     "is_executing": true
    }
   },
   "source": [
    "# Keras\n",
    "import keras\n",
    "from keras import regularizers\n",
    "from keras_preprocessing import sequence\n",
    "from keras_preprocessing.sequence import pad_sequences\n",
    "from keras import Sequential, Model\n",
    "from keras._tf_keras.keras.models import model_from_json\n",
    "from keras._tf_keras.keras.layers import Dense, Embedding, LSTM, Input, Flatten, Dropout, Activation, \\\n",
    "    BatchNormalization, Conv1D, MaxPooling1D, AveragePooling1D\n",
    "from keras._tf_keras.keras.utils import to_categorical\n",
    "from keras._tf_keras.keras.callbacks import ModelCheckpoint\n",
    "import np_utils\n",
    "\n",
    "# sklearn\n",
    "from sklearn.metrics import confusion_matrix, accuracy_score, classification_report\n",
    "from sklearn.model_selection import train_test_split\n",
    "from sklearn.preprocessing import LabelEncoder\n",
    "\n",
    "\n",
    "\n",
    "# Other\n",
    "import librosa\n",
    "import json\n",
    "import numpy as np\n",
    "import matplotlib.pyplot as plt\n",
    "import tensorflow as tf\n",
    "from matplotlib.pyplot import specgram\n",
    "import pandas as pd\n",
    "import seaborn as sns\n",
    "import glob\n",
    "import os\n",
    "import pickle\n",
    "import IPython.display as ipd  # To play sound in the notebook\n",
    "\n",
    "import sys\n",
    "import warnings\n",
    "\n"
   ],
   "outputs": [],
   "execution_count": null
  },
  {
   "metadata": {
    "ExecuteTime": {
     "end_time": "2024-07-30T06:02:17.206358Z",
     "start_time": "2024-07-30T06:02:17.193896Z"
    }
   },
   "cell_type": "code",
   "source": [
    "# Filter specific warnings\n",
    "warnings.filterwarnings(\"ignore\", category=FutureWarning, module=\"librosa.core.audio\")\n",
    "\n",
    "# ignore general warnings\n",
    "if not sys.warnoptions:\n",
    "    warnings.simplefilter(\"ignore\")\n",
    "warnings.filterwarnings(\"ignore\", category=DeprecationWarning)\n"
   ],
   "id": "b6818c01f76314f0",
   "outputs": [],
   "execution_count": 61
  },
  {
   "metadata": {
    "ExecuteTime": {
     "end_time": "2024-07-30T06:02:17.646227Z",
     "start_time": "2024-07-30T06:02:17.616248Z"
    }
   },
   "cell_type": "code",
   "source": [
    "# let's pick up the meta-data that we got from our first part of the Kernel\n",
    "ref = pd.read_csv(r\"C:\\Users\\eo19181\\Documents\\All -  Datasets\\sorted_data_paths.csv\")\n",
    "ref.head()"
   ],
   "id": "c71f038e3eb8348c",
   "outputs": [
    {
     "data": {
      "text/plain": [
       "         labels         source  \\\n",
       "0  female_angry  ESD - Dataset   \n",
       "1  female_angry  ESD - Dataset   \n",
       "2  female_angry  ESD - Dataset   \n",
       "3  female_angry  ESD - Dataset   \n",
       "4  female_angry  ESD - Dataset   \n",
       "\n",
       "                                                path  \n",
       "0  C:\\Users\\eo19181\\Documents\\All -  Datasets\\ESD...  \n",
       "1  C:\\Users\\eo19181\\Documents\\All -  Datasets\\ESD...  \n",
       "2  C:\\Users\\eo19181\\Documents\\All -  Datasets\\ESD...  \n",
       "3  C:\\Users\\eo19181\\Documents\\All -  Datasets\\ESD...  \n",
       "4  C:\\Users\\eo19181\\Documents\\All -  Datasets\\ESD...  "
      ],
      "text/html": [
       "<div>\n",
       "<style scoped>\n",
       "    .dataframe tbody tr th:only-of-type {\n",
       "        vertical-align: middle;\n",
       "    }\n",
       "\n",
       "    .dataframe tbody tr th {\n",
       "        vertical-align: top;\n",
       "    }\n",
       "\n",
       "    .dataframe thead th {\n",
       "        text-align: right;\n",
       "    }\n",
       "</style>\n",
       "<table border=\"1\" class=\"dataframe\">\n",
       "  <thead>\n",
       "    <tr style=\"text-align: right;\">\n",
       "      <th></th>\n",
       "      <th>labels</th>\n",
       "      <th>source</th>\n",
       "      <th>path</th>\n",
       "    </tr>\n",
       "  </thead>\n",
       "  <tbody>\n",
       "    <tr>\n",
       "      <th>0</th>\n",
       "      <td>female_angry</td>\n",
       "      <td>ESD - Dataset</td>\n",
       "      <td>C:\\Users\\eo19181\\Documents\\All -  Datasets\\ESD...</td>\n",
       "    </tr>\n",
       "    <tr>\n",
       "      <th>1</th>\n",
       "      <td>female_angry</td>\n",
       "      <td>ESD - Dataset</td>\n",
       "      <td>C:\\Users\\eo19181\\Documents\\All -  Datasets\\ESD...</td>\n",
       "    </tr>\n",
       "    <tr>\n",
       "      <th>2</th>\n",
       "      <td>female_angry</td>\n",
       "      <td>ESD - Dataset</td>\n",
       "      <td>C:\\Users\\eo19181\\Documents\\All -  Datasets\\ESD...</td>\n",
       "    </tr>\n",
       "    <tr>\n",
       "      <th>3</th>\n",
       "      <td>female_angry</td>\n",
       "      <td>ESD - Dataset</td>\n",
       "      <td>C:\\Users\\eo19181\\Documents\\All -  Datasets\\ESD...</td>\n",
       "    </tr>\n",
       "    <tr>\n",
       "      <th>4</th>\n",
       "      <td>female_angry</td>\n",
       "      <td>ESD - Dataset</td>\n",
       "      <td>C:\\Users\\eo19181\\Documents\\All -  Datasets\\ESD...</td>\n",
       "    </tr>\n",
       "  </tbody>\n",
       "</table>\n",
       "</div>"
      ]
     },
     "execution_count": 62,
     "metadata": {},
     "output_type": "execute_result"
    }
   ],
   "execution_count": 62
  },
  {
   "metadata": {
    "ExecuteTime": {
     "end_time": "2024-07-30T06:06:25.287642Z",
     "start_time": "2024-07-30T06:06:25.225647Z"
    }
   },
   "cell_type": "code",
   "source": [
    "\n",
    "\n",
    "# Load an example audio file\n",
    "filename = librosa.example()\n",
    "y, sr = librosa.load(filename, sr=None)\n",
    "\n",
    "print(f\"Audio sample rate: {sr}\")\n",
    "print(f\"Audio time series shape: {y.shape}\")"
   ],
   "id": "d16272f07dc57e0c",
   "outputs": [
    {
     "ename": "TypeError",
     "evalue": "deprecated() takes 0 positional arguments but 2 were given",
     "output_type": "error",
     "traceback": [
      "\u001B[1;31m---------------------------------------------------------------------------\u001B[0m",
      "\u001B[1;31mTypeError\u001B[0m                                 Traceback (most recent call last)",
      "Cell \u001B[1;32mIn[66], line 2\u001B[0m\n\u001B[0;32m      1\u001B[0m \u001B[38;5;66;03m# Load an example audio file\u001B[39;00m\n\u001B[1;32m----> 2\u001B[0m filename \u001B[38;5;241m=\u001B[39m \u001B[43mlibrosa\u001B[49m\u001B[38;5;241;43m.\u001B[39;49m\u001B[43mexample\u001B[49m()\n\u001B[0;32m      3\u001B[0m y, sr \u001B[38;5;241m=\u001B[39m librosa\u001B[38;5;241m.\u001B[39mload(filename, sr\u001B[38;5;241m=\u001B[39m\u001B[38;5;28;01mNone\u001B[39;00m)\n\u001B[0;32m      5\u001B[0m \u001B[38;5;28mprint\u001B[39m(\u001B[38;5;124mf\u001B[39m\u001B[38;5;124m\"\u001B[39m\u001B[38;5;124mAudio sample rate: \u001B[39m\u001B[38;5;132;01m{\u001B[39;00msr\u001B[38;5;132;01m}\u001B[39;00m\u001B[38;5;124m\"\u001B[39m)\n",
      "File \u001B[1;32mC:\\Python3\\lib\\site-packages\\lazy_loader\\__init__.py:82\u001B[0m, in \u001B[0;36mattach.<locals>.__getattr__\u001B[1;34m(name)\u001B[0m\n\u001B[0;32m     80\u001B[0m \u001B[38;5;28;01melif\u001B[39;00m name \u001B[38;5;129;01min\u001B[39;00m attr_to_modules:\n\u001B[0;32m     81\u001B[0m     submod_path \u001B[38;5;241m=\u001B[39m \u001B[38;5;124mf\u001B[39m\u001B[38;5;124m\"\u001B[39m\u001B[38;5;132;01m{\u001B[39;00mpackage_name\u001B[38;5;132;01m}\u001B[39;00m\u001B[38;5;124m.\u001B[39m\u001B[38;5;132;01m{\u001B[39;00mattr_to_modules[name]\u001B[38;5;132;01m}\u001B[39;00m\u001B[38;5;124m\"\u001B[39m\n\u001B[1;32m---> 82\u001B[0m     submod \u001B[38;5;241m=\u001B[39m \u001B[43mimportlib\u001B[49m\u001B[38;5;241;43m.\u001B[39;49m\u001B[43mimport_module\u001B[49m\u001B[43m(\u001B[49m\u001B[43msubmod_path\u001B[49m\u001B[43m)\u001B[49m\n\u001B[0;32m     83\u001B[0m     attr \u001B[38;5;241m=\u001B[39m \u001B[38;5;28mgetattr\u001B[39m(submod, name)\n\u001B[0;32m     85\u001B[0m     \u001B[38;5;66;03m# If the attribute lives in a file (module) with the same\u001B[39;00m\n\u001B[0;32m     86\u001B[0m     \u001B[38;5;66;03m# name as the attribute, ensure that the attribute and *not*\u001B[39;00m\n\u001B[0;32m     87\u001B[0m     \u001B[38;5;66;03m# the module is accessible on the package.\u001B[39;00m\n",
      "File \u001B[1;32mC:\\Python3\\lib\\importlib\\__init__.py:126\u001B[0m, in \u001B[0;36mimport_module\u001B[1;34m(name, package)\u001B[0m\n\u001B[0;32m    124\u001B[0m             \u001B[38;5;28;01mbreak\u001B[39;00m\n\u001B[0;32m    125\u001B[0m         level \u001B[38;5;241m+\u001B[39m\u001B[38;5;241m=\u001B[39m \u001B[38;5;241m1\u001B[39m\n\u001B[1;32m--> 126\u001B[0m \u001B[38;5;28;01mreturn\u001B[39;00m \u001B[43m_bootstrap\u001B[49m\u001B[38;5;241;43m.\u001B[39;49m\u001B[43m_gcd_import\u001B[49m\u001B[43m(\u001B[49m\u001B[43mname\u001B[49m\u001B[43m[\u001B[49m\u001B[43mlevel\u001B[49m\u001B[43m:\u001B[49m\u001B[43m]\u001B[49m\u001B[43m,\u001B[49m\u001B[43m \u001B[49m\u001B[43mpackage\u001B[49m\u001B[43m,\u001B[49m\u001B[43m \u001B[49m\u001B[43mlevel\u001B[49m\u001B[43m)\u001B[49m\n",
      "File \u001B[1;32m<frozen importlib._bootstrap>:1050\u001B[0m, in \u001B[0;36m_gcd_import\u001B[1;34m(name, package, level)\u001B[0m\n",
      "File \u001B[1;32m<frozen importlib._bootstrap>:1027\u001B[0m, in \u001B[0;36m_find_and_load\u001B[1;34m(name, import_)\u001B[0m\n",
      "File \u001B[1;32m<frozen importlib._bootstrap>:1006\u001B[0m, in \u001B[0;36m_find_and_load_unlocked\u001B[1;34m(name, import_)\u001B[0m\n",
      "File \u001B[1;32m<frozen importlib._bootstrap>:688\u001B[0m, in \u001B[0;36m_load_unlocked\u001B[1;34m(spec)\u001B[0m\n",
      "File \u001B[1;32m<frozen importlib._bootstrap_external>:883\u001B[0m, in \u001B[0;36mexec_module\u001B[1;34m(self, module)\u001B[0m\n",
      "File \u001B[1;32m<frozen importlib._bootstrap>:241\u001B[0m, in \u001B[0;36m_call_with_frames_removed\u001B[1;34m(f, *args, **kwds)\u001B[0m\n",
      "File \u001B[1;32m~\\AppData\\Roaming\\Python\\Python310\\site-packages\\librosa\\util\\files.py:163\u001B[0m\n\u001B[0;32m    159\u001B[0m         \u001B[38;5;28;01mfor\u001B[39;00m line \u001B[38;5;129;01min\u001B[39;00m fdesc:\n\u001B[0;32m    160\u001B[0m             \u001B[38;5;28mprint\u001B[39m(line)\n\u001B[1;32m--> 163\u001B[0m \u001B[38;5;129m@deprecated\u001B[39m\u001B[43m(\u001B[49m\u001B[38;5;124;43m\"\u001B[39;49m\u001B[38;5;124;43m0.8\u001B[39;49m\u001B[38;5;124;43m\"\u001B[39;49m\u001B[43m,\u001B[49m\u001B[43m \u001B[49m\u001B[38;5;124;43m\"\u001B[39;49m\u001B[38;5;124;43m0.9\u001B[39;49m\u001B[38;5;124;43m\"\u001B[39;49m\u001B[43m)\u001B[49m\n\u001B[0;32m    164\u001B[0m \u001B[38;5;28;01mdef\u001B[39;00m \u001B[38;5;21mexample_audio_file\u001B[39m():\n\u001B[0;32m    165\u001B[0m \u001B[38;5;250m    \u001B[39m\u001B[38;5;124;03m\"\"\"Get the path to an included audio example file.\u001B[39;00m\n\u001B[0;32m    166\u001B[0m \n\u001B[0;32m    167\u001B[0m \u001B[38;5;124;03m    .. warning:: This function is deprecated in 0.8, and will be removed in 0.9.\u001B[39;00m\n\u001B[1;32m   (...)\u001B[0m\n\u001B[0;32m    190\u001B[0m \u001B[38;5;124;03m        Path to the audio example file included with librosa\u001B[39;00m\n\u001B[0;32m    191\u001B[0m \u001B[38;5;124;03m    \"\"\"\u001B[39;00m\n\u001B[0;32m    193\u001B[0m     \u001B[38;5;66;03m# hq=True recovers our original example file\u001B[39;00m\n",
      "\u001B[1;31mTypeError\u001B[0m: deprecated() takes 0 positional arguments but 2 were given"
     ]
    }
   ],
   "execution_count": 66
  },
  {
   "metadata": {
    "ExecuteTime": {
     "end_time": "2024-07-30T06:02:18.350335Z",
     "start_time": "2024-07-30T06:02:18.310317Z"
    }
   },
   "cell_type": "code",
   "source": [
    "# Note this takes a couple of minutes (~10 mins) as we're iterating over 4 datasets\n",
    "df = pd.DataFrame(columns=['feature'])\n",
    "\n",
    "# loop feature extraction over the entire dataset\n",
    "counter = 0\n",
    "for index, path in enumerate(ref.path):\n",
    "    X, sample_rate = librosa.load(path, res_type='kaiser_fast', duration=2.5, sr=44100, offset=0.5)\n",
    "    sample_rate = np.array(sample_rate)\n",
    "\n",
    "    # mean as the feature. Could do min and max etc as well.\n",
    "    mfccs = np.mean(librosa.feature.mfcc(y=X, sr=sample_rate, n_mfcc=13), axis=0)\n",
    "    df.loc[counter] = [mfccs]\n",
    "    counter += 1\n",
    "\n",
    "# Check a few records to make sure its processed successfully\n",
    "print(len(df))\n",
    "df.head()\n"
   ],
   "id": "a18affd88b399fac",
   "outputs": [
    {
     "ename": "ModuleNotFoundError",
     "evalue": "No module named 'resampy'\n\nThis error is lazily reported, having originally occured in\n  File C:\\Users\\eo19181\\AppData\\Roaming\\Python\\Python310\\site-packages\\librosa\\core\\audio.py, line 33, in <module>\n\n----> resampy = lazy.load(\"resampy\")",
     "output_type": "error",
     "traceback": [
      "\u001B[1;31m---------------------------------------------------------------------------\u001B[0m",
      "\u001B[1;31mModuleNotFoundError\u001B[0m                       Traceback (most recent call last)",
      "Cell \u001B[1;32mIn[63], line 7\u001B[0m\n\u001B[0;32m      5\u001B[0m counter \u001B[38;5;241m=\u001B[39m \u001B[38;5;241m0\u001B[39m\n\u001B[0;32m      6\u001B[0m \u001B[38;5;28;01mfor\u001B[39;00m index, path \u001B[38;5;129;01min\u001B[39;00m \u001B[38;5;28menumerate\u001B[39m(ref\u001B[38;5;241m.\u001B[39mpath):\n\u001B[1;32m----> 7\u001B[0m     X, sample_rate \u001B[38;5;241m=\u001B[39m \u001B[43mlibrosa\u001B[49m\u001B[38;5;241;43m.\u001B[39;49m\u001B[43mload\u001B[49m\u001B[43m(\u001B[49m\u001B[43mpath\u001B[49m\u001B[43m,\u001B[49m\u001B[43m \u001B[49m\u001B[43mres_type\u001B[49m\u001B[38;5;241;43m=\u001B[39;49m\u001B[38;5;124;43m'\u001B[39;49m\u001B[38;5;124;43mkaiser_fast\u001B[39;49m\u001B[38;5;124;43m'\u001B[39;49m\u001B[43m,\u001B[49m\u001B[43m \u001B[49m\u001B[43mduration\u001B[49m\u001B[38;5;241;43m=\u001B[39;49m\u001B[38;5;241;43m2.5\u001B[39;49m\u001B[43m,\u001B[49m\u001B[43m \u001B[49m\u001B[43msr\u001B[49m\u001B[38;5;241;43m=\u001B[39;49m\u001B[38;5;241;43m44100\u001B[39;49m\u001B[43m,\u001B[49m\u001B[43m \u001B[49m\u001B[43moffset\u001B[49m\u001B[38;5;241;43m=\u001B[39;49m\u001B[38;5;241;43m0.5\u001B[39;49m\u001B[43m)\u001B[49m\n\u001B[0;32m      8\u001B[0m     sample_rate \u001B[38;5;241m=\u001B[39m np\u001B[38;5;241m.\u001B[39marray(sample_rate)\n\u001B[0;32m     10\u001B[0m     \u001B[38;5;66;03m# mean as the feature. Could do min and max etc as well.\u001B[39;00m\n",
      "File \u001B[1;32m~\\AppData\\Roaming\\Python\\Python310\\site-packages\\librosa\\core\\audio.py:193\u001B[0m, in \u001B[0;36mload\u001B[1;34m(path, sr, mono, offset, duration, dtype, res_type)\u001B[0m\n\u001B[0;32m    189\u001B[0m n_channels \u001B[38;5;241m=\u001B[39m input_file\u001B[38;5;241m.\u001B[39mchannels\n\u001B[0;32m    191\u001B[0m s_start \u001B[38;5;241m=\u001B[39m \u001B[38;5;28mint\u001B[39m(np\u001B[38;5;241m.\u001B[39mround(sr_native \u001B[38;5;241m*\u001B[39m offset)) \u001B[38;5;241m*\u001B[39m n_channels\n\u001B[1;32m--> 193\u001B[0m \u001B[38;5;28;01mif\u001B[39;00m duration \u001B[38;5;129;01mis\u001B[39;00m \u001B[38;5;28;01mNone\u001B[39;00m:\n\u001B[0;32m    194\u001B[0m     s_end \u001B[38;5;241m=\u001B[39m np\u001B[38;5;241m.\u001B[39minf\n\u001B[0;32m    195\u001B[0m \u001B[38;5;28;01melse\u001B[39;00m:\n",
      "File \u001B[1;32m~\\AppData\\Roaming\\Python\\Python310\\site-packages\\librosa\\core\\audio.py:678\u001B[0m, in \u001B[0;36mresample\u001B[1;34m(y, orig_sr, target_sr, res_type, fix, scale, axis, **kwargs)\u001B[0m\n\u001B[0;32m    598\u001B[0m \u001B[38;5;250m\u001B[39m\u001B[38;5;124;03m\"\"\"Compute the duration (in seconds) of an audio time series,\u001B[39;00m\n\u001B[0;32m    599\u001B[0m \u001B[38;5;124;03mfeature matrix, or filename.\u001B[39;00m\n\u001B[0;32m    600\u001B[0m \n\u001B[1;32m   (...)\u001B[0m\n\u001B[0;32m    674\u001B[0m \u001B[38;5;124;03m``(y, sr)``.\u001B[39;00m\n\u001B[0;32m    675\u001B[0m \u001B[38;5;124;03m\"\"\"\u001B[39;00m\n\u001B[0;32m    677\u001B[0m \u001B[38;5;28;01mif\u001B[39;00m filename \u001B[38;5;129;01mis\u001B[39;00m \u001B[38;5;129;01mnot\u001B[39;00m \u001B[38;5;28;01mNone\u001B[39;00m:\n\u001B[1;32m--> 678\u001B[0m     \u001B[38;5;28;01mtry\u001B[39;00m:\n\u001B[0;32m    679\u001B[0m         \u001B[38;5;28;01mreturn\u001B[39;00m sf\u001B[38;5;241m.\u001B[39minfo(filename)\u001B[38;5;241m.\u001B[39mduration\n\u001B[0;32m    680\u001B[0m     \u001B[38;5;28;01mexcept\u001B[39;00m \u001B[38;5;167;01mRuntimeError\u001B[39;00m:\n",
      "File \u001B[1;32mC:\\Python3\\lib\\site-packages\\lazy_loader\\__init__.py:117\u001B[0m, in \u001B[0;36mDelayedImportErrorModule.__getattr__\u001B[1;34m(self, x)\u001B[0m\n\u001B[0;32m    115\u001B[0m \u001B[38;5;28;01melse\u001B[39;00m:\n\u001B[0;32m    116\u001B[0m     fd \u001B[38;5;241m=\u001B[39m \u001B[38;5;28mself\u001B[39m\u001B[38;5;241m.\u001B[39m__frame_data\n\u001B[1;32m--> 117\u001B[0m     \u001B[38;5;28;01mraise\u001B[39;00m \u001B[38;5;167;01mModuleNotFoundError\u001B[39;00m(\n\u001B[0;32m    118\u001B[0m         \u001B[38;5;124mf\u001B[39m\u001B[38;5;124m\"\u001B[39m\u001B[38;5;132;01m{\u001B[39;00m\u001B[38;5;28mself\u001B[39m\u001B[38;5;241m.\u001B[39m__message\u001B[38;5;132;01m}\u001B[39;00m\u001B[38;5;130;01m\\n\u001B[39;00m\u001B[38;5;130;01m\\n\u001B[39;00m\u001B[38;5;124m\"\u001B[39m\n\u001B[0;32m    119\u001B[0m         \u001B[38;5;124m\"\u001B[39m\u001B[38;5;124mThis error is lazily reported, having originally occured in\u001B[39m\u001B[38;5;130;01m\\n\u001B[39;00m\u001B[38;5;124m\"\u001B[39m\n\u001B[0;32m    120\u001B[0m         \u001B[38;5;124mf\u001B[39m\u001B[38;5;124m'\u001B[39m\u001B[38;5;124m  File \u001B[39m\u001B[38;5;132;01m{\u001B[39;00mfd[\u001B[38;5;124m\"\u001B[39m\u001B[38;5;124mfilename\u001B[39m\u001B[38;5;124m\"\u001B[39m]\u001B[38;5;132;01m}\u001B[39;00m\u001B[38;5;124m, line \u001B[39m\u001B[38;5;132;01m{\u001B[39;00mfd[\u001B[38;5;124m\"\u001B[39m\u001B[38;5;124mlineno\u001B[39m\u001B[38;5;124m\"\u001B[39m]\u001B[38;5;132;01m}\u001B[39;00m\u001B[38;5;124m, in \u001B[39m\u001B[38;5;132;01m{\u001B[39;00mfd[\u001B[38;5;124m\"\u001B[39m\u001B[38;5;124mfunction\u001B[39m\u001B[38;5;124m\"\u001B[39m]\u001B[38;5;132;01m}\u001B[39;00m\u001B[38;5;130;01m\\n\u001B[39;00m\u001B[38;5;130;01m\\n\u001B[39;00m\u001B[38;5;124m'\u001B[39m\n\u001B[0;32m    121\u001B[0m         \u001B[38;5;124mf\u001B[39m\u001B[38;5;124m'\u001B[39m\u001B[38;5;124m----> \u001B[39m\u001B[38;5;132;01m{\u001B[39;00m\u001B[38;5;124m\"\u001B[39m\u001B[38;5;124m\"\u001B[39m\u001B[38;5;241m.\u001B[39mjoin(fd[\u001B[38;5;124m\"\u001B[39m\u001B[38;5;124mcode_context\u001B[39m\u001B[38;5;124m\"\u001B[39m]\u001B[38;5;250m \u001B[39m\u001B[38;5;129;01mor\u001B[39;00m\u001B[38;5;250m \u001B[39m\u001B[38;5;124m\"\u001B[39m\u001B[38;5;124m\"\u001B[39m)\u001B[38;5;241m.\u001B[39mstrip()\u001B[38;5;132;01m}\u001B[39;00m\u001B[38;5;124m'\u001B[39m\n\u001B[0;32m    122\u001B[0m     )\n",
      "\u001B[1;31mModuleNotFoundError\u001B[0m: No module named 'resampy'\n\nThis error is lazily reported, having originally occured in\n  File C:\\Users\\eo19181\\AppData\\Roaming\\Python\\Python310\\site-packages\\librosa\\core\\audio.py, line 33, in <module>\n\n----> resampy = lazy.load(\"resampy\")"
     ]
    }
   ],
   "execution_count": 63
  },
  {
   "metadata": {},
   "cell_type": "code",
   "outputs": [],
   "execution_count": null,
   "source": "",
   "id": "befd52828acb2ee6"
  },
  {
   "metadata": {
    "ExecuteTime": {
     "end_time": "2024-07-30T05:32:08.472406Z",
     "start_time": "2024-07-30T05:32:08.472406Z"
    }
   },
   "cell_type": "code",
   "source": [
    "# Now extract the mean bands to its own feature columns\n",
    "df = pd.concat([ref,pd.DataFrame(df['feature'].values.tolist())],axis=1)\n",
    "df[:5]"
   ],
   "id": "a431af1cea00124f",
   "outputs": [],
   "execution_count": null
  }
 ],
 "metadata": {
  "kernelspec": {
   "display_name": "Python 3",
   "language": "python",
   "name": "python3"
  },
  "language_info": {
   "codemirror_mode": {
    "name": "ipython",
    "version": 2
   },
   "file_extension": ".py",
   "mimetype": "text/x-python",
   "name": "python",
   "nbconvert_exporter": "python",
   "pygments_lexer": "ipython2",
   "version": "2.7.6"
  }
 },
 "nbformat": 4,
 "nbformat_minor": 5
}
