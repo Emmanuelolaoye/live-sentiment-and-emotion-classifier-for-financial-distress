{
 "cells": [
  {
   "cell_type": "markdown",
   "metadata": {},
   "source": [
    "# <center>Audio Emotion Recognition</center>\n",
    "## <center>Part 5 - Data augmentation</center>\n",
    "#### <center> 7th September 2019 </center> \n",
    "#####  <center> Eu Jin Lok </center> "
   ]
  },
  {
   "cell_type": "markdown",
   "metadata": {},
   "source": [
    "## Introduction \n",
    "Continuing where we left off in [Part 3](https://www.kaggle.com/ejlok1/audio-emotion-part-3-baseline-model) where we built a simple baseline model, now we're going to take the next level up and build in some data augmentation methods. I did some reading and desk reseach and there's a few good articles around on this:\n",
    "\n",
    "- [Edward Ma](https://medium.com/@makcedward/data-augmentation-for-audio-76912b01fdf6)\n",
    "- [Qishen Ha](https://www.kaggle.com/haqishen/augmentation-methods-for-audio)\n",
    "- [Reza Chu](https://towardsdatascience.com/speech-emotion-recognition-with-convolution-neural-network-1e6bb7130ce3)\n",
    "\n",
    "Thanks to the various authors above, I've incorporated their methods into this notebook here. We'll go ahead and test a few methods for the authors, then implement some using the same 1D CNN model we used before so we can compare apples with apples exactly how much the accuracy contribution came from the data augmentation methods. \n",
    "\n",
    "1. [Explore augmentation methods](#explore)\n",
    "    - [Static noise](#static)\n",
    "    - [Shift](#shift)\n",
    "    - [Stretch](#stretch)\n",
    "    - [Pitch](#pitch)\n",
    "    - [Dynamic change](#dynamic)\n",
    "    - [Speed and pitch](#speed)\n",
    "2. [Data preparation and processing](#data)\n",
    "3. [Modelling](#modelling)\n",
    "4. [Model serialisation](#serialise)\n",
    "5. [Model validation](#validation)\n",
    "6. [Final thoughts](#final)\n",
    "\n",
    "Most importantly, I want to thank the 4 authors for their excellent dataset, without it, writing this notebook could not have been possible. The original source of the dataset links are below:\n",
    "- [TESS](https://tspace.library.utoronto.ca/handle/1807/24487)\n",
    "- [CREMA-D](https://github.com/CheyneyComputerScience/CREMA-D)\n",
    "- [SAVEE](http://kahlan.eps.surrey.ac.uk/savee/Database.html)\n",
    "- [RAVDESS](https://zenodo.org/record/1188976#.XYP8CSgzaUk)\n",
    "- [RAVDESS_Kaggle](https://www.kaggle.com/uwrfkaggler/ravdess-emotional-speech-audio)"
   ]
  },
  {
   "cell_type": "code",
   "metadata": {
    "_cell_guid": "b1076dfc-b9ad-4769-8c92-a6c4dae69d19",
    "_uuid": "8f2839f25d086af736a60e9eeb907d3b93b6e0e5"
   },
   "source": [
    "# Keras\n",
    "import keras\n",
    "from keras import regularizers\n",
    "from keras_preprocessing import sequence\n",
    "from keras_preprocessing.sequence import pad_sequences\n",
    "from keras import Sequential, Model\n",
    "from keras._tf_keras.keras.models import model_from_json\n",
    "from keras._tf_keras.keras.layers import Dense, Embedding, LSTM, Input, Flatten, Dropout, Activation, \\\n",
    "    BatchNormalization, Conv1D, MaxPooling1D, AveragePooling1D\n",
    "from keras._tf_keras.keras.utils import to_categorical\n",
    "from keras._tf_keras.keras.callbacks import ModelCheckpoint\n",
    "from keras._tf_keras.keras import utils\n",
    "from keras._tf_keras.keras import optimizers\n",
    "import np_utils\n",
    "\n",
    "# sklearn\n",
    "from sklearn.metrics import confusion_matrix, accuracy_score, classification_report\n",
    "from sklearn.model_selection import train_test_split\n",
    "from sklearn.preprocessing import LabelEncoder\n",
    "\n",
    "# Other\n",
    "import librosa\n",
    "from librosa import feature\n",
    "import json\n",
    "from scipy.io import wavfile\n",
    "from python_speech_features import mfcc\n",
    "import numpy as np\n",
    "import matplotlib.pyplot as plt\n",
    "import tensorflow as tf\n",
    "from matplotlib.pyplot import specgram\n",
    "import pandas as pd\n",
    "import seaborn as sns\n",
    "import glob\n",
    "from tqdm import tqdm\n",
    "import os\n",
    "import pickle\n",
    "import IPython.display as ipd  # To play sound in the notebook\n",
    "\n",
    "import sys\n",
    "import warnings"
   ],
   "outputs": [],
   "execution_count": null
  },
  {
   "cell_type": "code",
   "metadata": {
    "_cell_guid": "79c7e3d0-c299-4dcb-8224-4455121ee9b0",
    "_uuid": "d629ff2d2480ee46fbb7e2d37f6b5fab8052498a"
   },
   "source": [
    "#########################\n",
    "# Augmentation methods\n",
    "#########################\n",
    "def noise(data):\n",
    "    \"\"\"\n",
    "    Adding White Noise.\n",
    "    \"\"\"\n",
    "    # you can take any distribution from https://docs.scipy.org/doc/numpy-1.13.0/reference/routines.random.html\n",
    "    noise_amp = 0.05*np.random.uniform()*np.amax(data)   # more noise reduce the value to 0.5\n",
    "    data = data.astype('float64') + noise_amp * np.random.normal(size=data.shape[0])\n",
    "    return data\n",
    "    \n",
    "def shift(data):\n",
    "    \"\"\"\n",
    "    Random Shifting.\n",
    "    \"\"\"\n",
    "    s_range = int(np.random.uniform(low=-5, high = 5)*1000)  #default at 500\n",
    "    return np.roll(data, s_range)\n",
    "    \n",
    "def stretch(data):\n",
    "    \"\"\"\n",
    "    Streching the Sound. Note that this expands the dataset slightly\n",
    "    \"\"\"\n",
    "    data = librosa.effects.time_stretch(data, rate=0.8)\n",
    "    return data\n",
    "    \n",
    "def pitch(data, sample_rate):\n",
    "    \"\"\"\n",
    "    Pitch Tuning.\n",
    "    \"\"\"\n",
    "    bins_per_octave = 12\n",
    "    pitch_pm = 2\n",
    "    pitch_change =  pitch_pm * 2*(np.random.uniform())   \n",
    "    data = librosa.effects.pitch_shift(data.astype('float64'), sr=sampling_rate, n_steps=pitch_change, bins_per_octave=bins_per_octave)\n",
    "    return data\n",
    "    \n",
    "def dyn_change(data):\n",
    "    \"\"\"\n",
    "    Random Value Change.\n",
    "    \"\"\"\n",
    "    dyn_change = np.random.uniform(low=-0.5 ,high=7)  # default low = 1.5, high = 3\n",
    "    return (data * dyn_change)\n",
    "    \n",
    "def speedNpitch(data):\n",
    "    \"\"\"\n",
    "    peed and Pitch Tuning.\n",
    "    \"\"\"\n",
    "    # you can change low and high here\n",
    "    length_change = np.random.uniform(low=0.8, high = 1)\n",
    "    speed_fac = 1.2  / length_change # try changing 1.0 to 2.0 ... =D\n",
    "    tmp = np.interp(np.arange(0,len(data),speed_fac),np.arange(0,len(data)),data)\n",
    "    minlen = min(data.shape[0], tmp.shape[0])\n",
    "    data *= 0\n",
    "    data[0:minlen] = tmp[0:minlen]\n",
    "    return data\n",
    "\n",
    "####################################\n",
    "# the confusion matrix heat map plot\n",
    "####################################\n",
    "def print_confusion_matrix(confusion_matrix, class_names, figsize = (10,7), fontsize=14):\n",
    "    \"\"\"Prints a confusion matrix, as returned by sklearn.metrics.confusion_matrix, as a heatmap.\n",
    "    \n",
    "    Arguments\n",
    "    ---------\n",
    "    confusion_matrix: numpy.ndarray\n",
    "        The numpy.ndarray object returned from a call to sklearn.metrics.confusion_matrix. \n",
    "        Similarly constructed ndarrays can also be used.\n",
    "    class_names: list\n",
    "        An ordered list of class names, in the order they index the given confusion matrix.\n",
    "    figsize: tuple\n",
    "        A 2-long tuple, the first value determining the horizontal size of the ouputted figure,\n",
    "        the second determining the vertical size. Defaults to (10,7).\n",
    "    fontsize: int\n",
    "        Font size for axes labels. Defaults to 14.\n",
    "        \n",
    "    Returns\n",
    "    -------\n",
    "    matplotlib.figure.Figure\n",
    "        The resulting confusion matrix figure\n",
    "    \"\"\"\n",
    "    df_cm = pd.DataFrame(\n",
    "        confusion_matrix, index=class_names, columns=class_names, \n",
    "    )\n",
    "    fig = plt.figure(figsize=figsize)\n",
    "    try:\n",
    "        heatmap = sns.heatmap(df_cm, annot=True, fmt=\"d\")\n",
    "    except ValueError:\n",
    "        raise ValueError(\"Confusion matrix values must be integers.\")\n",
    "        \n",
    "    heatmap.yaxis.set_ticklabels(heatmap.yaxis.get_ticklabels(), rotation=0, ha='right', fontsize=fontsize)\n",
    "    heatmap.xaxis.set_ticklabels(heatmap.xaxis.get_ticklabels(), rotation=45, ha='right', fontsize=fontsize)\n",
    "    plt.ylabel('True label')\n",
    "    plt.xlabel('Predicted label')"
   ],
   "outputs": [],
   "execution_count": null
  },
  {
   "cell_type": "markdown",
   "metadata": {},
   "source": [
    "<a id=\"explore\"></a>\n",
    "## 1. Explore augmentation method\n",
    "So before we go full scale application of the augmentation methods, lets take one audio file and run it through all the different types to get a feel for how they work. From there we'll then take a few forward for our model training and hopefully it improves our accuracy.\n",
    "\n",
    "We'll start with the orginal audio file untouched..."
   ]
  },
  {
   "cell_type": "code",
   "metadata": {},
   "source": [
    "# Use one audio file in previous parts again\n",
    "fname = r\"C:\\Users\\eo19181\\Documents\\All -  Datasets\\TESS - Dataset\\Female\\Fear\\OAF_goose_fear.wav\"  \n",
    "data, sampling_rate = librosa.load(fname)\n",
    "plt.figure(figsize=(15, 5))\n",
    "librosa.display.waveshow(data, sr=sampling_rate)\n",
    "\n",
    "# Paly it again to refresh our memory\n",
    "ipd.Audio(data, rate=sampling_rate)"
   ],
   "outputs": [],
   "execution_count": null
  },
  {
   "cell_type": "markdown",
   "metadata": {},
   "source": [
    "<a id=\"static\"></a>\n",
    "### Static noise \n",
    "The first augmentation method we'll do is to add static noise in the background. Here's how it sounds..."
   ]
  },
  {
   "cell_type": "code",
   "metadata": {},
   "source": [
    "x = noise(data)\n",
    "plt.figure(figsize=(15, 5))\n",
    "librosa.display.waveshow(x, sr=sampling_rate)\n",
    "ipd.Audio(x, rate=sampling_rate)"
   ],
   "outputs": [],
   "execution_count": null
  },
  {
   "cell_type": "markdown",
   "metadata": {},
   "source": [
    "-------------------------\n",
    "That's sounds like a good augmentation, not too much static such that it doesn't obfuscate the signal too much. \n",
    "\n",
    "<a id=\"shift\"></a>\n",
    "### Shift\n",
    "Next method is shift..."
   ]
  },
  {
   "cell_type": "code",
   "metadata": {},
   "source": [
    "x = shift(data)\n",
    "plt.figure(figsize=(15, 5))\n",
    "librosa.display.waveshow(x, sr=sampling_rate)\n",
    "ipd.Audio(x, rate=sampling_rate)"
   ],
   "outputs": [],
   "execution_count": null
  },
  {
   "cell_type": "markdown",
   "metadata": {},
   "source": [
    "----------------------------\n",
    "So its not very noticable but what I've done there is move the audio randomly to either the left or right direction, within the fix audio duration. So if you compare this to the original plot, you can see the same audio wave pattern, except there's a tiny bit of delay before the speaker starts speaking. \n",
    "\n",
    "<a id=\"stretch\"></a>\n",
    "### Stretch \n",
    "Now we go to stretch, my most favourite augmentation method "
   ]
  },
  {
   "cell_type": "code",
   "metadata": {},
   "source": [
    "x = stretch(data)\n",
    "plt.figure(figsize=(15, 5))\n",
    "librosa.display.waveshow(x, sr=sampling_rate)\n",
    "ipd.Audio(x, rate=sampling_rate)"
   ],
   "outputs": [],
   "execution_count": null
  },
  {
   "cell_type": "markdown",
   "metadata": {},
   "source": [
    "This one is one of the more dramatic augmentation methods. The method literally stretches the audio. So the duration is longer, but the audio wave gets strecthed too. Thus introducing and effect that sounds like a slow motion sound. If you look at the audio wave itself, you'll notice that compared to the orginal audio, the strected audio seems to hit a higher frequency note. Thus creating a more diverse data for augmentation. Pretty nifty eh? It does introduce abit of a challenge in the data prep stage cause it lengthens the audio duration. Something to consider especially when doing a 2D CNN. \n",
    " \n",
    " <a id=\"pitch\"></a>\n",
    "### Pitch\n",
    "I believe, this method accentuates the high pitch notes, by... normalising it sort of. "
   ]
  },
  {
   "cell_type": "code",
   "metadata": {},
   "source": [
    "x = pitch(data, sampling_rate)\n",
    "plt.figure(figsize=(15, 5))\n",
    "librosa.display.waveshow(x, sr=sampling_rate)\n",
    "ipd.Audio(x, rate=sampling_rate)"
   ],
   "outputs": [],
   "execution_count": null
  },
  {
   "cell_type": "markdown",
   "metadata": {},
   "source": [
    "Honestly, I'm not exactly sure how this pitch augmentation works. so I'll need to do more reading on this. But safe to say it's another way of augmenting the data. If you listen to it, you can hear the difference. \n",
    "\n",
    "<a id=\"dynamic\"></a>\n",
    "### Dynamic change\n",
    "Dynamic change.... "
   ]
  },
  {
   "cell_type": "code",
   "metadata": {},
   "source": [
    "x = dyn_change(data)\n",
    "plt.figure(figsize=(15, 5))\n",
    "librosa.display.waveshow(x, sr=sampling_rate)\n",
    "ipd.Audio(x, rate=sampling_rate)"
   ],
   "outputs": [],
   "execution_count": null
  },
  {
   "cell_type": "markdown",
   "metadata": {},
   "source": [
    "----------------------------\n",
    "Yes I know what you are thinking. It's exactly the same as the original. Yes true, but if you look at the frequency, the wave hits higher frequency notes compared to the original where the min is around -1 and the max is around 1. The min and max of this audio is -6 and 6 respestively. Not exactly sure how useful this is, I'll need to do some more reading.\n",
    "\n",
    "<a id=\"speed\"></a>\n",
    "### Speed and pitch\n",
    "Last but not least, speed and pitch..."
   ]
  },
  {
   "cell_type": "code",
   "metadata": {},
   "source": [
    "x = speedNpitch(data)\n",
    "plt.figure(figsize=(15, 5))\n",
    "librosa.display.waveshow(x, sr=sampling_rate)\n",
    "ipd.Audio(x, rate=sampling_rate)"
   ],
   "outputs": [],
   "execution_count": null
  },
  {
   "cell_type": "markdown",
   "metadata": {},
   "source": [
    "I really like this augmentation method. It dramatically alters the audio in many ways. It compresses the audio wave but keeping the audio duration the same. If you listen to it, the effect is opposite of the stretch augmentation method. An angry person when applied this augmentation method, to the human ear, will really alter the emotion interpretation of this audio. Not sure if this is counter productive to the algorithm, but lets try it. Another potential, downside is that there will be silence in the later part of the audio.  "
   ]
  },
  {
   "cell_type": "markdown",
   "metadata": {},
   "source": [
    "<a id=\"data\"></a>\n",
    "## 2. Data preparation and processing\n",
    "I'm going to use just 2 augmentation method which is the noise, and the speed & pitch method. Just for demo purposes. So now lets apply it across all our audio data. We'll use the same data processing steps we followed in [part 3](https://www.kaggle.com/ejlok1/audio-emotion-part-3-baseline-model), except we add in the augmentation process in the loop. We are going to use the noise and speed pitch augmentation method\n",
    "\n",
    "Actually I have also added one extra enhancement to the code, which is a progress bar using the tqdm library. Given that we're adding a few extra processing steps, it would be worthwhile to know how long we've progressed..."
   ]
  },
  {
   "cell_type": "code",
   "metadata": {},
   "source": [
    "# lets pick up the meta-data that we got from our first part of the Kernel\n",
    "\n",
    "\n",
    "ref = pd.read_csv(r\"C:\\Users\\eo19181\\Documents\\All -  Datasets\\data_paths.csv\")\n",
    "ref.head()"
   ],
   "outputs": [],
   "execution_count": null
  },
  {
   "cell_type": "code",
   "metadata": {},
   "source": [
    "# Note this takes a couple of minutes (~16 mins) as we're iterating over 4 datasets, and with augmentation  \n",
    "df = pd.DataFrame(columns=['feature'])\n",
    "df_noise = pd.DataFrame(columns=['feature'])\n",
    "df_speedpitch = pd.DataFrame(columns=['feature'])\n",
    "cnt = 0\n",
    "\n",
    "# loop feature extraction over the entire dataset\n",
    "for i in tqdm(ref.path):\n",
    "    \n",
    "    # first load the audio \n",
    "    X, sample_rate = librosa.load(i\n",
    "                                  , res_type='kaiser_fast'\n",
    "                                  ,duration=2.5\n",
    "                                  ,sr=44100\n",
    "                                  ,offset=0.5\n",
    "                                 )\n",
    "\n",
    "    # take mfcc and mean as the feature. Could do min and max etc as well. \n",
    "    mfccs = np.mean(librosa.feature.mfcc(y=X, \n",
    "                                        sr=np.array(sample_rate), \n",
    "                                        n_mfcc=13),\n",
    "                    axis=0)\n",
    "    \n",
    "    df.loc[cnt] = [mfccs]   \n",
    "\n",
    "    # random shifting (omit for now)\n",
    "    # Stretch\n",
    "    # pitch (omit for now)\n",
    "    # dyn change\n",
    "    \n",
    "    # noise \n",
    "    aug = noise(X)\n",
    "    aug = np.mean(librosa.feature.mfcc(y=aug, \n",
    "                                    sr=np.array(sample_rate), \n",
    "                                    n_mfcc=13),    \n",
    "                  axis=0)\n",
    "    df_noise.loc[cnt] = [aug]\n",
    "\n",
    "    # speed pitch\n",
    "    aug = speedNpitch(X)\n",
    "    aug = np.mean(librosa.feature.mfcc(y=aug, \n",
    "                                    sr=np.array(sample_rate), \n",
    "                                    n_mfcc=13),    \n",
    "                  axis=0)\n",
    "    df_speedpitch.loc[cnt] = [aug]   \n",
    "\n",
    "    cnt += 1\n",
    "\n",
    "df.head()"
   ],
   "outputs": [],
   "execution_count": null
  },
  {
   "cell_type": "markdown",
   "metadata": {},
   "source": [
    "Right so ~13 mins for completion, so its definitely longer, almost double the amount of time with the 2 augmentation methods in the loop. Instead of the one data object that we get out, we now get 2 other ones, one for each of the 2 augmentation methods we've used. \n",
    "\n",
    "We'll need to stack them on top of each other to make a larger dataset. But before we do so, we need to make sure the number of columns for the 3 datasets are the same. So lets check it out before we stack them \n",
    "\n",
    "_NOTE: If using the stretch augmentation, the audio duration becomes artifically longer and thus the number of columns will be different from original. So some padding will need to be done to the original dataset_"
   ]
  },
  {
   "cell_type": "code",
   "metadata": {
    "ExecuteTime": {
     "start_time": "2024-08-02T18:04:55.781550Z"
    }
   },
   "source": [
    "# combine \n",
    "df = pd.concat([ref,pd.DataFrame(df['feature'].values.tolist())],axis=1)\n",
    "df_noise = pd.concat([ref,pd.DataFrame(df_noise['feature'].values.tolist())],axis=1)\n",
    "df_speedpitch = pd.concat([ref,pd.DataFrame(df_speedpitch['feature'].values.tolist())],axis=1)\n",
    "print(df.shape,df_noise.shape,df_speedpitch.shape)"
   ],
   "outputs": [],
   "execution_count": null
  },
  {
   "cell_type": "markdown",
   "metadata": {},
   "source": [
    "Great so the shape of all the 3 datasets are the same. Thats expected. So our new dataset once stacked on top, will be 3 times the original size, which is handy since Deep Learning needs alot of data"
   ]
  },
  {
   "cell_type": "code",
   "metadata": {
    "ExecuteTime": {
     "start_time": "2024-08-02T18:04:55.781550Z"
    }
   },
   "source": [
    "df = pd.concat([df,df_noise,df_speedpitch],axis=0,sort=False)\n",
    "df=df.fillna(0)\n",
    "del df_noise, df_speedpitch\n",
    "\n",
    "df.head()"
   ],
   "outputs": [],
   "execution_count": null
  },
  {
   "cell_type": "markdown",
   "metadata": {},
   "source": [
    "So now after stacking them, we'll go ahead and split the dataset as per the usual..."
   ]
  },
  {
   "cell_type": "code",
   "metadata": {
    "ExecuteTime": {
     "start_time": "2024-08-02T18:04:55.785702Z"
    }
   },
   "source": [
    "# Split between train and test \n",
    "X_train, X_test, y_train, y_test = train_test_split(df.drop(['path','labels','source'],axis=1)\n",
    "                                                    , df.labels\n",
    "                                                    , test_size=0.25\n",
    "                                                    , shuffle=True\n",
    "                                                    , random_state=42\n",
    "                                                   )\n",
    "\n",
    "# Lets see how the data present itself before normalisation \n",
    "X_train[150:160]"
   ],
   "outputs": [],
   "execution_count": null
  },
  {
   "cell_type": "markdown",
   "metadata": {},
   "source": [
    "... and then we normalise our dataset"
   ]
  },
  {
   "cell_type": "code",
   "metadata": {
    "ExecuteTime": {
     "start_time": "2024-08-02T18:04:55.786988Z"
    }
   },
   "source": [
    "# Lts do data normalization \n",
    "mean = np.mean(X_train, axis=0)\n",
    "std = np.std(X_train, axis=0)\n",
    "\n",
    "X_train = (X_train - mean)/std\n",
    "X_test = (X_test - mean)/std\n",
    "\n",
    "# Check the dataset now \n",
    "X_train[150:160]"
   ],
   "outputs": [],
   "execution_count": null
  },
  {
   "cell_type": "markdown",
   "metadata": {},
   "source": [
    "... make the dataset keras compatible"
   ]
  },
  {
   "cell_type": "code",
   "metadata": {
    "ExecuteTime": {
     "start_time": "2024-08-02T18:04:55.787436Z"
    }
   },
   "source": [
    "# Lets few preparation steps to get it into the correct format for Keras \n",
    "X_train = np.array(X_train)\n",
    "y_train = np.array(y_train)\n",
    "X_test = np.array(X_test)\n",
    "y_test = np.array(y_test)\n",
    "\n",
    "# one hot encode the target \n",
    "lb = LabelEncoder()\n",
    "y_train = to_categorical(lb.fit_transform(y_train))\n",
    "y_test = to_categorical(lb.fit_transform(y_test))\n",
    "\n",
    "print(X_train.shape)\n",
    "print(lb.classes_)\n",
    "\n",
    "# Pickel the lb object for future use \n",
    "filename = 'labels'\n",
    "outfile = open(filename,'wb')\n",
    "pickle.dump(lb,outfile)\n",
    "outfile.close()"
   ],
   "outputs": [],
   "execution_count": null
  },
  {
   "cell_type": "code",
   "metadata": {
    "ExecuteTime": {
     "start_time": "2024-08-02T18:04:55.788459Z"
    }
   },
   "source": [
    "X_train = np.expand_dims(X_train, axis=2)\n",
    "X_test = np.expand_dims(X_test, axis=2)\n",
    "X_train.shape"
   ],
   "outputs": [],
   "execution_count": null
  },
  {
   "cell_type": "markdown",
   "metadata": {},
   "source": [
    "<a id=\"modelling\"></a>\n",
    "## 3. Modelling\n",
    "We're going to use the same model architecture that was in part 3 so we can compare apples with apples...thou a note of caution that the model build will take close to an hour even with GPU"
   ]
  },
  {
   "cell_type": "code",
   "metadata": {
    "ExecuteTime": {
     "start_time": "2024-08-02T18:04:55.788459Z"
    }
   },
   "source": [
    "# New model\n",
    "model = Sequential()\n",
    "model.add(Conv1D(256, 8, padding='same',input_shape=(X_train.shape[1],1)))  # X_train.shape[1] = No. of Columns\n",
    "model.add(Activation('relu'))\n",
    "model.add(Conv1D(256, 8, padding='same'))\n",
    "model.add(BatchNormalization())\n",
    "model.add(Activation('relu'))\n",
    "model.add(Dropout(0.25))\n",
    "model.add(MaxPooling1D(pool_size=(8)))\n",
    "model.add(Conv1D(128, 8, padding='same'))\n",
    "model.add(Activation('relu'))\n",
    "model.add(Conv1D(128, 8, padding='same'))\n",
    "model.add(Activation('relu'))\n",
    "model.add(Conv1D(128, 8, padding='same'))\n",
    "model.add(Activation('relu'))\n",
    "model.add(Conv1D(128, 8, padding='same'))\n",
    "model.add(BatchNormalization())\n",
    "model.add(Activation('relu'))\n",
    "model.add(Dropout(0.25))\n",
    "model.add(MaxPooling1D(pool_size=(8)))\n",
    "model.add(Conv1D(64, 8, padding='same'))\n",
    "model.add(Activation('relu'))\n",
    "model.add(Conv1D(64, 8, padding='same'))\n",
    "model.add(Activation('relu'))\n",
    "model.add(Flatten())\n",
    "model.add(Dense(14)) # Target class number\n",
    "model.add(Activation('softmax'))\n",
    "opt = keras.optimizers.RMSprop(learning_rate=0.00001, decay=1e-6)\n",
    "model.summary()"
   ],
   "outputs": [],
   "execution_count": null
  },
  {
   "cell_type": "code",
   "metadata": {
    "ExecuteTime": {
     "start_time": "2024-08-02T18:04:55.788459Z"
    }
   },
   "source": [
    "model.compile(loss='categorical_crossentropy', optimizer=opt,metrics=['accuracy'])\n",
    "model_history=model.fit(X_train, y_train, batch_size=16, epochs=150, validation_data=(X_test, y_test),verbose=2)"
   ],
   "outputs": [],
   "execution_count": null
  },
  {
   "cell_type": "code",
   "metadata": {
    "ExecuteTime": {
     "start_time": "2024-08-02T18:04:55.790686Z"
    }
   },
   "source": [
    "plt.plot(model_history.history['loss'])\n",
    "plt.plot(model_history.history['val_loss'])\n",
    "plt.title('model loss')\n",
    "plt.ylabel('loss')\n",
    "plt.xlabel('epoch')\n",
    "plt.legend(['train', 'test'], loc='upper left')\n",
    "plt.show()"
   ],
   "outputs": [],
   "execution_count": null
  },
  {
   "cell_type": "markdown",
   "metadata": {},
   "source": [
    "Notice that I've increased the number of epochs to 150 in this notebook. Now if you recall in Part 3, we set to 100 epochs and the logloss plot shows that it has reached full potential at a logloss of about 1.6 after about 50 epochs, and further epochs doesn't really make it more accuracy anymore. With data augmentation however, it seems to indicate that it hasn't quite plateau yet and could still get better. \n",
    "\n",
    "And so that's why i've increased the number of epochs so it can achieve its full potential. Originally when I set to 100 epochs, the plot indicated it hasn't plateau. So i reran at 150 and you can see cleary now that around 100 epochs diminishing returns sets in. I'm going to keep the final model at 150 instead of 100. "
   ]
  },
  {
   "cell_type": "markdown",
   "metadata": {},
   "source": [
    "<a id=\"serialise\"></a>\n",
    "## 4. Model serialisation\n",
    "So we serialise the model..."
   ]
  },
  {
   "cell_type": "code",
   "metadata": {
    "ExecuteTime": {
     "start_time": "2024-08-02T18:04:55.791268Z"
    }
   },
   "source": [
    "# Save model and weights\n",
    "model_name = 'Emotion_Model_aug.h5'\n",
    "save_dir = os.path.join(os.getcwd(), 'saved_models')\n",
    "\n",
    "if not os.path.isdir(save_dir):\n",
    "    os.makedirs(save_dir)\n",
    "model_path = os.path.join(save_dir, model_name)\n",
    "model.save(model_path)\n",
    "print('Save model and weights at %s ' % model_path)\n",
    "\n",
    "# Save the model to disk\n",
    "model_json = model.to_json()\n",
    "with open(\"model_json_aug.json\", \"w\") as json_file:\n",
    "    json_file.write(model_json)"
   ],
   "outputs": [],
   "execution_count": null
  },
  {
   "cell_type": "markdown",
   "metadata": {},
   "source": [
    "<a id=\"validation\"></a>\n",
    "## 5. Model validation\n",
    "So if you recall in part 3, the model accuracy at 100 epochs was at 43.80%... "
   ]
  },
  {
   "cell_type": "code",
   "metadata": {
    "ExecuteTime": {
     "start_time": "2024-08-02T18:04:55.792266Z"
    }
   },
   "source": [
    "# loading json and model architecture \n",
    "json_file = open('model_json_aug.json', 'r')\n",
    "loaded_model_json = json_file.read()\n",
    "json_file.close()\n",
    "loaded_model = model_from_json(loaded_model_json)\n",
    "\n",
    "# load weights into new model\n",
    "loaded_model.load_weights(\"saved_models/Emotion_Model_aug.h5\")\n",
    "print(\"Loaded model from disk\")\n",
    " \n",
    "# Keras optimiser\n",
    "opt = keras.optimizers.RMSprop(learning_rate=0.00001, decay=1e-6)\n",
    "loaded_model.compile(loss='categorical_crossentropy', optimizer=opt, metrics=['accuracy'])\n",
    "score = loaded_model.evaluate(X_test, y_test, verbose=0)\n",
    "print(\"%s: %.2f%%\" % (loaded_model.metrics_names[1], score[1]*100))"
   ],
   "outputs": [],
   "execution_count": null
  },
  {
   "cell_type": "markdown",
   "metadata": {},
   "source": [
    "We now have 48.41%. Yes it is at 150 epochs but even at 100 it would yeild rougly the same results as per illustrated on the plot above. So now lets run it through the test set."
   ]
  },
  {
   "cell_type": "code",
   "metadata": {
    "ExecuteTime": {
     "start_time": "2024-08-02T18:04:55.793438Z"
    }
   },
   "source": [
    "preds = loaded_model.predict(X_test, \n",
    "                         batch_size=16, \n",
    "                         verbose=1)\n",
    "\n",
    "preds=preds.argmax(axis=1)\n",
    "preds"
   ],
   "outputs": [],
   "execution_count": null
  },
  {
   "cell_type": "markdown",
   "metadata": {},
   "source": [
    "Then append the labels to it before we run the accuracy measure..."
   ]
  },
  {
   "cell_type": "code",
   "metadata": {
    "ExecuteTime": {
     "start_time": "2024-08-02T18:04:55.793438Z"
    }
   },
   "source": [
    "# predictions \n",
    "preds = preds.astype(int).flatten()\n",
    "preds = (lb.inverse_transform((preds)))\n",
    "preds = pd.DataFrame({'predictedvalues': preds})\n",
    "\n",
    "# Actual labels\n",
    "actual=y_test.argmax(axis=1)\n",
    "actual = actual.astype(int).flatten()\n",
    "actual = (lb.inverse_transform((actual)))\n",
    "actual = pd.DataFrame({'actualvalues': actual})\n",
    "\n",
    "# Lets combined both of them into a single dataframe\n",
    "finaldf = actual.join(preds)\n",
    "finaldf[170:180]"
   ],
   "outputs": [],
   "execution_count": null
  },
  {
   "cell_type": "markdown",
   "metadata": {},
   "source": [
    "Lets write the predictions out into a file for re-use"
   ]
  },
  {
   "cell_type": "code",
   "metadata": {
    "ExecuteTime": {
     "start_time": "2024-08-02T18:04:55.794451Z"
    }
   },
   "source": [
    "# Write out the predictions to disk\n",
    "finaldf.to_csv('Predictions.csv', index=False)\n",
    "finaldf.groupby('predictedvalues').count()"
   ],
   "outputs": [],
   "execution_count": null
  },
  {
   "cell_type": "markdown",
   "metadata": {},
   "source": [
    "So how well have we done? Have we made a significant improvement? \n",
    "\n",
    "#### Emotion by gender accuracy  \n",
    "So lets visualise how well we have done for the Emotion by Gender model"
   ]
  },
  {
   "cell_type": "code",
   "metadata": {
    "ExecuteTime": {
     "start_time": "2024-08-02T18:04:55.794451Z"
    }
   },
   "source": [
    "# Get the predictions file \n",
    "finaldf = pd.read_csv(\"Predictions.csv\")\n",
    "classes = finaldf.actualvalues.unique()\n",
    "classes.sort()    \n",
    "\n",
    "# Confusion matrix \n",
    "c = confusion_matrix(finaldf.actualvalues, finaldf.predictedvalues)\n",
    "print(accuracy_score(finaldf.actualvalues, finaldf.predictedvalues))\n",
    "print_confusion_matrix(c, class_names = classes)"
   ],
   "outputs": [],
   "execution_count": null
  },
  {
   "cell_type": "code",
   "metadata": {
    "ExecuteTime": {
     "start_time": "2024-08-02T18:04:55.796631Z"
    }
   },
   "source": [
    "# Classification report \n",
    "classes = finaldf.actualvalues.unique()\n",
    "classes.sort()    \n",
    "print(classification_report(finaldf.actualvalues, finaldf.predictedvalues, target_names=classes))"
   ],
   "outputs": [],
   "execution_count": null
  },
  {
   "cell_type": "markdown",
   "metadata": {},
   "source": [
    "The accuracy for the gender by emotions in Part 3 is 43%, and we got 48%, which is great. A small but not unexpected uplift given we only introduce 2 augmentation methods. "
   ]
  },
  {
   "cell_type": "markdown",
   "metadata": {},
   "source": [
    "---------------\n",
    "#### Gender accuracy result \n",
    "if you notice, that the gender classification is more accurate. So lets group them up and measure the accuracy again?"
   ]
  },
  {
   "cell_type": "code",
   "metadata": {
    "ExecuteTime": {
     "end_time": "2024-08-02T18:04:55.819376Z",
     "start_time": "2024-08-02T18:04:55.797035Z"
    }
   },
   "source": [
    "modidf = finaldf\n",
    "modidf['actualvalues'] = finaldf.actualvalues.replace({'female_angry':'female'\n",
    "                                       , 'female_disgust':'female'\n",
    "                                       , 'female_fear':'female'\n",
    "                                       , 'female_happy':'female'\n",
    "                                       , 'female_sad':'female'\n",
    "                                       , 'female_surprise':'female'\n",
    "                                       , 'female_neutral':'female'\n",
    "                                       , 'male_angry':'male'\n",
    "                                       , 'male_fear':'male'\n",
    "                                       , 'male_happy':'male'\n",
    "                                       , 'male_sad':'male'\n",
    "                                       , 'male_surprise':'male'\n",
    "                                       , 'male_neutral':'male'\n",
    "                                       , 'male_disgust':'male'\n",
    "                                      })\n",
    "\n",
    "modidf['predictedvalues'] = finaldf.predictedvalues.replace({'female_angry':'female'\n",
    "                                       , 'female_disgust':'female'\n",
    "                                       , 'female_fear':'female'\n",
    "                                       , 'female_happy':'female'\n",
    "                                       , 'female_sad':'female'\n",
    "                                       , 'female_surprise':'female'\n",
    "                                       , 'female_neutral':'female'\n",
    "                                       , 'male_angry':'male'\n",
    "                                       , 'male_fear':'male'\n",
    "                                       , 'male_happy':'male'\n",
    "                                       , 'male_sad':'male'\n",
    "                                       , 'male_surprise':'male'\n",
    "                                       , 'male_neutral':'male'\n",
    "                                       , 'male_disgust':'male'\n",
    "                                      })\n",
    "\n",
    "classes = modidf.actualvalues.unique()  \n",
    "classes.sort() \n",
    "\n",
    "# Confusion matrix \n",
    "c = confusion_matrix(modidf.actualvalues, modidf.predictedvalues)\n",
    "print(accuracy_score(modidf.actualvalues, modidf.predictedvalues))\n",
    "print_confusion_matrix(c, class_names = classes)"
   ],
   "outputs": [],
   "execution_count": null
  },
  {
   "cell_type": "code",
   "metadata": {
    "ExecuteTime": {
     "start_time": "2024-08-02T18:04:55.797695Z"
    }
   },
   "source": [
    "# Classification report \n",
    "classes = modidf.actualvalues.unique()\n",
    "classes.sort()    \n",
    "print(classification_report(modidf.actualvalues, modidf.predictedvalues, target_names=classes))"
   ],
   "outputs": [],
   "execution_count": null
  },
  {
   "cell_type": "markdown",
   "metadata": {},
   "source": [
    "With data augmentation we get 80.8% compared to 80.4% without augmentation. So not much difference when differentiating by gender. "
   ]
  },
  {
   "cell_type": "markdown",
   "metadata": {},
   "source": [
    "#### Emotion accuracy\n",
    "We'll now ignore the gender part and just super group them into the 7 core emotions. Lets see what we get..."
   ]
  },
  {
   "cell_type": "code",
   "metadata": {
    "ExecuteTime": {
     "end_time": "2024-08-02T18:05:02.599640Z",
     "start_time": "2024-08-02T18:05:02.368999Z"
    }
   },
   "source": [
    "modidf = pd.read_csv(\"Predictions.csv\")\n",
    "modidf['actualvalues'] = modidf.actualvalues.replace({'female_angry':'angry'\n",
    "                                       , 'female_disgust':'disgust'\n",
    "                                       , 'female_fear':'fear'\n",
    "                                       , 'female_happy':'happy'\n",
    "                                       , 'female_sad':'sad'\n",
    "                                       , 'female_surprise':'surprise'\n",
    "                                       , 'female_neutral':'neutral'\n",
    "                                       , 'male_angry':'angry'\n",
    "                                       , 'male_fear':'fear'\n",
    "                                       , 'male_happy':'happy'\n",
    "                                       , 'male_sad':'sad'\n",
    "                                       , 'male_surprise':'surprise'\n",
    "                                       , 'male_neutral':'neutral'\n",
    "                                       , 'male_disgust':'disgust'\n",
    "                                      })\n",
    "\n",
    "modidf['predictedvalues'] = modidf.predictedvalues.replace({'female_angry':'angry'\n",
    "                                       , 'female_disgust':'disgust'\n",
    "                                       , 'female_fear':'fear'\n",
    "                                       , 'female_happy':'happy'\n",
    "                                       , 'female_sad':'sad'\n",
    "                                       , 'female_surprise':'surprise'\n",
    "                                       , 'female_neutral':'neutral'\n",
    "                                       , 'male_angry':'angry'\n",
    "                                       , 'male_fear':'fear'\n",
    "                                       , 'male_happy':'happy'\n",
    "                                       , 'male_sad':'sad'\n",
    "                                       , 'male_surprise':'surprise'\n",
    "                                       , 'male_neutral':'neutral'\n",
    "                                       , 'male_disgust':'disgust'\n",
    "                                      })\n",
    "\n",
    "classes = modidf.actualvalues.unique() \n",
    "classes.sort() \n",
    "\n",
    "# Confusion matrix \n",
    "c = confusion_matrix(modidf.actualvalues, modidf.predictedvalues)\n",
    "print(accuracy_score(modidf.actualvalues, modidf.predictedvalues))\n",
    "print_confusion_matrix(c, class_names = classes)"
   ],
   "outputs": [
    {
     "name": "stdout",
     "output_type": "stream",
     "text": [
      "0.5138220883714658\n"
     ]
    },
    {
     "data": {
      "text/plain": [
       "<Figure size 1000x700 with 2 Axes>"
      ],
      "image/png": "[encoded data removed]"
     },
     "metadata": {},
     "output_type": "display_data"
    }
   ],
   "execution_count": 112
  },
  {
   "cell_type": "code",
   "metadata": {
    "ExecuteTime": {
     "end_time": "2024-08-02T18:05:19.913467Z",
     "start_time": "2024-08-02T18:05:19.636461Z"
    }
   },
   "source": [
    "# Classification report \n",
    "classes = modidf.actualvalues.unique()\n",
    "classes.sort()    \n",
    "print(classification_report(modidf.actualvalues, modidf.predictedvalues, target_names=classes))"
   ],
   "outputs": [
    {
     "name": "stdout",
     "output_type": "stream",
     "text": [
      "              precision    recall  f1-score   support\n",
      "\n",
      "       angry       0.54      0.46      0.50      4086\n",
      "     disgust       0.53      0.39      0.45      1455\n",
      "        fear       0.41      0.42      0.41      1433\n",
      "       happy       0.48      0.44      0.46      3991\n",
      "     neutral       0.57      0.54      0.56      4086\n",
      "         sad       0.45      0.67      0.54      4034\n",
      "    surprise       0.63      0.53      0.58      3162\n",
      "\n",
      "    accuracy                           0.51     22247\n",
      "   macro avg       0.52      0.49      0.50     22247\n",
      "weighted avg       0.52      0.51      0.51     22247\n",
      "\n"
     ]
    }
   ],
   "execution_count": 113
  },
  {
   "cell_type": "markdown",
   "metadata": {},
   "source": [
    "54% compared to 49% without data augmentation. "
   ]
  },
  {
   "cell_type": "markdown",
   "metadata": {},
   "source": [
    "<a id=\"final\"></a>\n",
    "## 6. Final thoughts \n",
    "So its quite clear that data augmentation does help improve the accuracy albeit slightly. Note that we only introduced 2 augmentation methods. Perhaps if we include more it may make it more accurate. But there comes to a point where we have to consider the trade off between speed and accuracy. \n",
    "\n",
    "Next section we're going to look at implementing more advance modelling techniques. And of course, we'll be bringing forward this 2 augmentation methods that we just do today"
   ]
  }
 ],
 "metadata": {
  "kernelspec": {
   "display_name": "Python 3",
   "language": "python",
   "name": "python3"
  },
  "language_info": {
   "codemirror_mode": {
    "name": "ipython",
    "version": 3
   },
   "file_extension": ".py",
   "mimetype": "text/x-python",
   "name": "python",
   "nbconvert_exporter": "python",
   "pygments_lexer": "ipython3",
   "version": "3.6.6"
  }
 },
 "nbformat": 4,
 "nbformat_minor": 1
}
