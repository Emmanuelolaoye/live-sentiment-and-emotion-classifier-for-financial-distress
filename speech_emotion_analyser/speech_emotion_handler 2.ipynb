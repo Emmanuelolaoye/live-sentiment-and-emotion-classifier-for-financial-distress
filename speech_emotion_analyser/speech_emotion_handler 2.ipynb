{
 "cells": [
  {
   "cell_type": "code",
   "id": "initial_id",
   "metadata": {
    "collapsed": true,
    "ExecuteTime": {
     "end_time": "2024-08-09T15:38:28.713511Z",
     "start_time": "2024-08-09T15:38:25.805015Z"
    }
   },
   "source": [
    "# Keras\n",
    "\n",
    "from keras._tf_keras.keras.models import model_from_json\n",
    "from keras._tf_keras.keras.layers import Dense, Input, Flatten, Dropout, Activation, \\\n",
    "    BatchNormalization, Conv2D, MaxPooling1D, AveragePooling1D\n",
    "from keras._tf_keras.keras.utils import to_categorical\n",
    "# from keras._tf_keras.keras.callbacks import ModelCheckpoint\n",
    "# from keras._tf_keras.keras import utils\n",
    "from keras._tf_keras.keras import optimizers\n",
    "# import np_utils\n",
    "\n",
    "# sklearn\n",
    "from sklearn.metrics import confusion_matrix, accuracy_score\n",
    "from sklearn.model_selection import train_test_split\n",
    "from sklearn.preprocessing import LabelEncoder\n",
    "\n",
    "# Other\n",
    "import librosa\n",
    "from librosa import feature\n",
    "# import json\n",
    "# from scipy.io import wavfile\n",
    "# from python_speech_features import mfcc\n",
    "import numpy as np\n",
    "import matplotlib.pyplot as plt\n",
    "# import tensorflow as tf\n",
    "# from matplotlib.pyplot import specgram\n",
    "import pandas as pd\n",
    "import seaborn as sns\n",
    "# import glob\n",
    "from tqdm import tqdm\n",
    "import os\n",
    "import pickle\n",
    "# import IPython.display as ipd  # To play sound in the notebook\n",
    "#\n",
    "# import sys\n",
    "# import warnings"
   ],
   "outputs": [],
   "execution_count": 1
  },
  {
   "metadata": {
    "ExecuteTime": {
     "end_time": "2024-08-09T15:41:29.534809Z",
     "start_time": "2024-08-09T15:41:29.041292Z"
    }
   },
   "cell_type": "code",
   "source": [
    "\n",
    "# Load the pre-trained model\n",
    "json_file = open(r'M:\\pythonProject\\2D model_json 1.json (slightly improved)', 'r')\n",
    "loaded_model_json = json_file.read()\n",
    "json_file.close()\n",
    "loaded_model = model_from_json(loaded_model_json)\n",
    "loaded_model.load_weights(r\"M:\\pythonProject\\saved_models\\2D Emotion_Model (slightly improved).h5\")\n",
    "print(\"Loaded model from disk\")\n",
    "\n",
    "# Compile the loaded model\n",
    "opt = optimizers.Adam(0.001)\n",
    "loaded_model.compile(optimizer=opt, loss='categorical_crossentropy', metrics=['acc'])\n",
    "\n",
    "# Function to preprocess and extract MFCC features\n",
    "def extract_mfcc_features2(file_name, n_mfcc=30, sampling_rate=44100, audio_duration=5):\n",
    "    input_length = sampling_rate * audio_duration\n",
    "    data, _ = librosa.load(file_name, sr=sampling_rate, res_type=\"kaiser_fast\", duration=5, offset=0.5)\n",
    "\n",
    "    if len(data) > input_length:\n",
    "        max_offset = len(data) - input_length\n",
    "        offset = np.random.randint(max_offset)\n",
    "        data = data[offset:(input_length + offset)]\n",
    "    else:\n",
    "        if input_length > len(data):\n",
    "            max_offset = input_length - len(data)\n",
    "            offset = np.random.randint(max_offset)\n",
    "        else:\n",
    "            offset = 0\n",
    "        data = np.pad(data, (offset, int(input_length) - len(data) - offset), \"constant\")\n",
    "\n",
    "    feature_mfcc = librosa.feature.mfcc(y=data, sr=sampling_rate, n_mfcc=n_mfcc)\n",
    "    feature_mfcc = np.expand_dims(feature_mfcc, axis=-1)\n",
    "    feature_mfcc = feature_mfcc.reshape(1, n_mfcc, -1, 1)  # Adjust based on your specific model input shape\n",
    "\n",
    "    return feature_mfcc\n",
    "\n",
    "# Function to make prediction on a new sound file\n",
    "def predict_emotion2(file_name):\n",
    "    label = r'C:\\Users\\eo19181\\PycharmProjects\\pythonProject\\labeler'\n",
    "    infile = open(label, 'rb')\n",
    "    lb = pickle.load(infile)\n",
    "    infile.close()\n",
    "    \n",
    "    features = extract_mfcc_features2(file_name)\n",
    "    if features is not None:\n",
    "        prediction = loaded_model.predict(features, batch_size=16, verbose=1)\n",
    "        predicted_emotion = np.argmax(prediction, axis=1)\n",
    "        \n",
    "        predicted_emotion = predicted_emotion.astype(int).flatten()\n",
    "        predicted_emotion = lb.inverse_transform(predicted_emotion) # Corrected transformation\n",
    "\n",
    "        return predicted_emotion\n",
    "    else:\n",
    "        return None\n",
    "\n",
    "# Example usage\n",
    "file_name = r\"C:\\Users\\eo19181\\Documents\\All -  Datasets\\CREMA - Dataset\\Male\\Disgust\\1001_IEO_DIS_HI.wav\"\n",
    "predicted_emotion = predict_emotion2(file_name)\n",
    "print(f'Predicted Emotion: {predicted_emotion}')"
   ],
   "id": "d0c77c96ba75f035",
   "outputs": [
    {
     "name": "stdout",
     "output_type": "stream",
     "text": [
      "Loaded model from disk\n"
     ]
    },
    {
     "name": "stderr",
     "output_type": "stream",
     "text": [
      "C:\\Python3\\lib\\site-packages\\sklearn\\base.py:376: InconsistentVersionWarning: Trying to unpickle estimator LabelEncoder from version 1.5.1 when using version 1.5.0. This might lead to breaking code or invalid results. Use at your own risk. For more info please refer to:\n",
      "https://scikit-learn.org/stable/model_persistence.html#security-maintainability-limitations\n",
      "  warnings.warn(\n"
     ]
    },
    {
     "name": "stdout",
     "output_type": "stream",
     "text": [
      "\u001B[1m1/1\u001B[0m \u001B[32m━━━━━━━━━━━━━━━━━━━━\u001B[0m\u001B[37m\u001B[0m \u001B[1m0s\u001B[0m 90ms/step\n",
      "Predicted Emotion: ['male_disgust']\n"
     ]
    }
   ],
   "execution_count": 5
  },
  {
   "metadata": {},
   "cell_type": "code",
   "outputs": [],
   "execution_count": null,
   "source": [],
   "id": "55fd58bf228fd05b"
  }
 ],
 "metadata": {
  "kernelspec": {
   "display_name": "Python 3",
   "language": "python",
   "name": "python3"
  },
  "language_info": {
   "codemirror_mode": {
    "name": "ipython",
    "version": 2
   },
   "file_extension": ".py",
   "mimetype": "text/x-python",
   "name": "python",
   "nbconvert_exporter": "python",
   "pygments_lexer": "ipython2",
   "version": "2.7.6"
  }
 },
 "nbformat": 4,
 "nbformat_minor": 5
}
